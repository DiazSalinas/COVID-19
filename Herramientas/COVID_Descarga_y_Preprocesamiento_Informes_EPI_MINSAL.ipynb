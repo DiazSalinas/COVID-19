{
 "cells": [
  {
   "cell_type": "code",
   "execution_count": 1,
   "metadata": {
    "colab": {},
    "colab_type": "code",
    "id": "axaR9kUn1JsT"
   },
   "outputs": [],
   "source": [
    "#Documento creado por https://github.com/Stepp1\n",
    "#Modificado por esteban\n",
    "\n",
    "import subprocess\n",
    "import shlex\n",
    "import requests"
   ]
  },
  {
   "cell_type": "code",
   "execution_count": 2,
   "metadata": {
    "colab": {
     "base_uri": "https://localhost:8080/",
     "height": 139
    },
    "colab_type": "code",
    "id": "KSrxIdU-1Jse",
    "outputId": "1d2dfc50-5f6d-41b4-b530-cba81f25a76b"
   },
   "outputs": [
    {
     "name": "stdout",
     "output_type": "stream",
     "text": [
      "Collecting tabula-py\n",
      "  Downloading tabula_py-2.1.0-py3-none-any.whl (10.4 MB)\n",
      "\u001b[K     |████████████████████████████████| 10.4 MB 787 kB/s eta 0:00:01    |████████████████▊               | 5.4 MB 734 kB/s eta 0:00:07     |█████████████████               | 5.6 MB 734 kB/s eta 0:00:07\n",
      "\u001b[?25hCollecting distro\n",
      "  Downloading distro-1.5.0-py2.py3-none-any.whl (18 kB)\n",
      "Requirement already satisfied: numpy in /opt/anaconda3/lib/python3.7/site-packages (from tabula-py) (1.18.1)\n",
      "Requirement already satisfied: pandas>=0.25.3 in /opt/anaconda3/lib/python3.7/site-packages (from tabula-py) (1.0.1)\n",
      "Requirement already satisfied: pytz>=2017.2 in /opt/anaconda3/lib/python3.7/site-packages (from pandas>=0.25.3->tabula-py) (2019.3)\n",
      "Requirement already satisfied: python-dateutil>=2.6.1 in /opt/anaconda3/lib/python3.7/site-packages (from pandas>=0.25.3->tabula-py) (2.8.1)\n",
      "Requirement already satisfied: six>=1.5 in /opt/anaconda3/lib/python3.7/site-packages (from python-dateutil>=2.6.1->pandas>=0.25.3->tabula-py) (1.14.0)\n",
      "Installing collected packages: distro, tabula-py\n",
      "Successfully installed distro-1.5.0 tabula-py-2.1.0\n"
     ]
    }
   ],
   "source": [
    "#!pip install tabula-py \n",
    "#Sólo una vez"
   ]
  },
  {
   "cell_type": "markdown",
   "metadata": {
    "colab_type": "text",
    "id": "2VvbUqfD1Jso"
   },
   "source": [
    "### Eliminamos descargas anteriores"
   ]
  },
  {
   "cell_type": "code",
   "execution_count": 0,
   "metadata": {
    "colab": {},
    "colab_type": "code",
    "id": "YFCxsryX1Jsp"
   },
   "outputs": [],
   "source": [
    "#!rm *pdf"
   ]
  },
  {
   "cell_type": "markdown",
   "metadata": {
    "colab_type": "text",
    "id": "9U-6lYT51Jsx"
   },
   "source": [
    "### Obtenemos las urls de los informes (EPI y Generales)"
   ]
  },
  {
   "cell_type": "code",
   "execution_count": 4,
   "metadata": {
    "colab": {},
    "colab_type": "code",
    "id": "QUQYguv71Jsy",
    "scrolled": false
   },
   "outputs": [],
   "source": [
    "response = subprocess.check_output(shlex.split('curl --request GET https://www.gob.cl/coronavirus/cifrasoficiales/'))\n",
    "\n",
    "\n",
    "url_reporte = []\n",
    "url_informe_epi = []\n",
    "for line in response.decode().splitlines():\n",
    "    if \"Reporte_Covid19.pdf\" in line:\n",
    "        url = line.strip().split('https://')[1].split(\"\\\"\")[0]\n",
    "        \n",
    "        url_reporte.append(url)\n",
    "        \n",
    "    elif \"INFORME_EPI\" in line:\n",
    "        \n",
    "        test = line.strip()\n",
    "        test = test.split('https://')[1].split(\"\\\"\")[0]\n",
    "        url_informe_epi.append(test)\n",
    "        \n",
    "        "
   ]
  },
  {
   "cell_type": "code",
   "execution_count": 5,
   "metadata": {},
   "outputs": [
    {
     "data": {
      "text/plain": [
       "b'<!DOCTYPE html>\\n<html lang=\"es\">\\n  <head>\\n    <meta charset=\"utf-8\">\\n    <title>Gob.cl - Cifras Oficiales</title>\\n    <meta name=\"viewport\" content=\"width=device-width, initial-scale=1.0\">\\n    <meta name=\"author\" content=\"https://magnet.cl\">\\n    <meta name=\"twitter:site\" content=\"@Gobiernodechile\">\\n    <meta name=\"twitter:creator\" content=\"@Gobiernodechile\">\\n    <meta name=\"og:site_name\" content=\"Gobierno de Chile\">\\n    <meta name=\"og:type\" content=\"website\">\\n    <meta name=\"fb:admins\" content=\"572738868\">\\n    <meta name=\"fb:app_id\" content=\"114405611929952\">\\n    <meta itemprop=\"description\" content=\"\">\\n    <meta itemprop=\"image\" content=\"http://www.gob.clhttps://cdn.digital.gob.cl/favicon/ms-icon-310x310.png\">\\n    <meta itemprop=\"name\" content=\"Gob.cl: \">\\n    <meta name=\"keywords\" content=\"\">\\n    <meta name=\"description\" content=\"\">\\n    <link href=\"//maxcdn.bootstrapcdn.com/font-awesome/4.2.0/css/font-awesome.min.css\" rel=\"stylesheet\">\\n    <link rel=\"stylesheet\" href=\"https://fonts.googleapis.com/css?family=Roboto\">\\n    <link rel=\"stylesheet\" href=\"https://fonts.googleapis.com/css?family=Roboto+Slab\">\\n    <link rel=\"apple-touch-icon\" sizes=\"57x57\" href=\"https://cdn.digital.gob.cl/favicon/apple-icon-57x57.png\">\\n    <link rel=\"apple-touch-icon\" sizes=\"60x60\" href=\"https://cdn.digital.gob.cl/favicon/apple-icon-60x60.png\">\\n    <link rel=\"apple-touch-icon\" sizes=\"72x72\" href=\"https://cdn.digital.gob.cl/favicon/apple-icon-72x72.png\">\\n    <link rel=\"apple-touch-icon\" sizes=\"76x76\" href=\"https://cdn.digital.gob.cl/favicon/apple-icon-76x76.png\">\\n    <link rel=\"apple-touch-icon\" sizes=\"114x114\" href=\"https://cdn.digital.gob.cl/favicon/apple-icon-114x114.png\">\\n    <link rel=\"apple-touch-icon\" sizes=\"120x120\" href=\"https://cdn.digital.gob.cl/favicon/apple-icon-120x120.png\">\\n    <link rel=\"apple-touch-icon\" sizes=\"144x144\" href=\"https://cdn.digital.gob.cl/favicon/apple-icon-144x144.png\">\\n    <link rel=\"apple-touch-icon\" sizes=\"152x152\" href=\"https://cdn.digital.gob.cl/favicon/apple-icon-152x152.png\">\\n    <link rel=\"apple-touch-icon\" sizes=\"180x180\" href=\"https://cdn.digital.gob.cl/favicon/apple-icon-180x180.png\">\\n    <link rel=\"icon\" type=\"image/png\" sizes=\"192x192\" href=\"https://cdn.digital.gob.cl/favicon/android-icon-192x192.png\">\\n    <link rel=\"icon\" type=\"image/png\" sizes=\"32x32\" href=\"https://cdn.digital.gob.cl/favicon/favicon-32x32.png\">\\n    <link rel=\"icon\" type=\"image/png\" sizes=\"96x96\" href=\"https://cdn.digital.gob.cl/favicon/favicon-96x96.png\">\\n    <link rel=\"icon\" type=\"image/png\" sizes=\"16x16\" href=\"https://cdn.digital.gob.cl/favicon/favicon-16x16.png\">\\n    <link rel=\"manifest\" href=\"https://cdn.digital.gob.cl/favicon/manifest.json\">\\n    <meta name=\"msapplication-TileColor\" content=\"#ffffff\">\\n    <meta name=\"msapplication-TileImage\" content=\"https://cdn.digital.gob.cl/favicon/ms-icon-144x144.png\">\\n    <meta name=\"theme-color\" content=\"#ffffff\"><!--[if lte IE 7]>\\n    <script src=\"https://html5shim.googlecode.com/svn/trunk/html5.js\"></script><![endif]--><!--[if lt IE 9]>\\n    <script src=\"https://cdnjs.cloudflare.com/ajax/libs/respond.js/1.4.2/respond.min.js\" integrity=\"sha256-g6iAfvZp+nDQ2TdTR/VVKJf3bGro4ub5fvWSWVRi2NE=\" crossorigin=\"anonymous\"></script><![endif]-->\\n\\n\\n\\n  </head>\\n  <body class=\" footer-links-10\">\\n\\n    <div>\\n      <div class=\"container\">\\n        <div class=\"row\">\\n\\n        </div>\\n      </div>\\n    </div><!doctype html>\\r\\n\\r\\n<html lang=\"es\">\\r\\n\\r\\n    <head>\\r\\n        <!-- Global site tag (gtag.js) - Google Analytics -->\\r\\n        <script async src=\"https://www.googletagmanager.com/gtag/js?id=UA-116011800-1\"></script>\\r\\n        <script>\\r\\n          window.dataLayer = window.dataLayer || [];\\r\\n          function gtag(){dataLayer.push(arguments);}\\r\\n          gtag(\\'js\\', new Date());\\r\\n          gtag(\\'config\\', \\'UA-116011800-1\\');\\r\\n        </script>\\r\\n\\r\\n        <!----------------- REQUIRED META TAGS ----------------->\\r\\n        <meta charset=\"utf-8\">\\r\\n        <meta name=\"viewport\" content=\"width=device-width, initial-scale=1, shrink-to-fit=no\">\\r\\n\\r\\n        <!----------------- BOOTSTRAP CSS ----------------->\\r\\n        <link rel=\"stylesheet\" href=\"https://stackpath.bootstrapcdn.com/bootstrap/4.1.1/css/bootstrap.min.css\" integrity=\"sha384-WskhaSGFgHYWDcbwN70/dfYBj47jz9qbsMId/iRN3ewGhXQFZCSftd1LZCfmhktB\" crossorigin=\"anonymous\">\\r\\n\\r\\n        <!----------------- MY STYLE ----------------->\\r\\n        <link rel=\"stylesheet\" href=\"https://cdn.digital.gob.cl/filer_public/00/68/0068add7-b8f2-4f34-86e1-f2516a205f51/style.css\">\\r\\n\\r\\n        <!----------------- GOOGLE FONT ----------------->\\r\\n        <link href=\"https://fonts.googleapis.com/css?family=Open+Sans:400,600,700,800&display=swap\" rel=\"stylesheet\">\\r\\n\\r\\n        <!----------------- FONT AWESOME ----------------->\\r\\n        <!-- V5.1 --><link rel=\"stylesheet\" href=\"https://use.fontawesome.com/releases/v5.1.0/css/all.css\" integrity=\"sha384-lKuwvrZot6UHsBSfcMvOkWwlCMgc0TaWr+30HWe3a4ltaBwTZhyTEggF5tJv8tbt\" crossorigin=\"anonymous\">\\r\\n        <!-- V5.5 --><link rel=\"stylesheet\" href=\"https://use.fontawesome.com/releases/v5.5.0/css/all.css\" integrity=\"sha384-B4dIYHKNBt8Bc12p+WXckhzcICo0wtJAoU8YZTY5qE0Id1GSseTk6S+L3BlXeVIU\" crossorigin=\"anonymous\">\\r\\n\\r\\n        <!----------------- FAVICON ----------------->\\r\\n        <link rel=\"apple-touch-icon\" sizes=\"57x57\" href=\"https://cdn.digital.gob.cl/favicon/apple-icon-57x57.png\">\\r\\n        <link rel=\"apple-touch-icon\" sizes=\"60x60\" href=\"https://cdn.digital.gob.cl/favicon/apple-icon-60x60.png\">\\r\\n        <link rel=\"apple-touch-icon\" sizes=\"72x72\" href=\"https://cdn.digital.gob.cl/favicon/apple-icon-72x72.png\">\\r\\n        <link rel=\"apple-touch-icon\" sizes=\"76x76\" href=\"https://cdn.digital.gob.cl/favicon/apple-icon-76x76.png\">\\r\\n        <link rel=\"apple-touch-icon\" sizes=\"114x114\" href=\"https://cdn.digital.gob.cl/favicon/apple-icon-114x114.png\">\\r\\n        <link rel=\"apple-touch-icon\" sizes=\"120x120\" href=\"https://cdn.digital.gob.cl/favicon/apple-icon-120x120.png\">\\r\\n        <link rel=\"apple-touch-icon\" sizes=\"144x144\" href=\"https://cdn.digital.gob.cl/favicon/apple-icon-144x144.png\">\\r\\n        <link rel=\"apple-touch-icon\" sizes=\"152x152\" href=\"https://cdn.digital.gob.cl/favicon/apple-icon-152x152.png\">\\r\\n        <link rel=\"apple-touch-icon\" sizes=\"180x180\" href=\"https://cdn.digital.gob.cl/favicon/apple-icon-180x180.png\">\\r\\n        <link rel=\"icon\" type=\"image/png\" sizes=\"192x192\" href=\"https://cdn.digital.gob.cl/favicon/android-icon-192x192.png\">\\r\\n        <link rel=\"icon\" type=\"image/png\" sizes=\"32x32\" href=\"https://cdn.digital.gob.cl/favicon/favicon-32x32.png\">\\r\\n        <link rel=\"icon\" type=\"image/png\" sizes=\"96x96\" href=\"https://cdn.digital.gob.cl/favicon/favicon-96x96.png\">\\r\\n        <link rel=\"icon\" type=\"image/png\" sizes=\"16x16\" href=\"https://cdn.digital.gob.cl/favicon/favicon-16x16.png\">\\r\\n        <link rel=\"manifest\" href=\"https://cdn.digital.gob.cl/favicon/manifest.json\">\\r\\n\\r\\n        <!----------------- GOOGLE ANALYTICS ----------------->\\r\\n        <script async src=\"https://www.googletagmanager.com/gtag/js?id=UA-48790041-1\"></script>\\r\\n        <script>window.dataLayer = window.dataLayer || []; function gtag(){dataLayer.push(arguments);} gtag(\\'js\\', new Date()); gtag(\\'config\\', \\'UA-48790041-1\\');</script>\\r\\n\\r\\n        <title>Corona Virus - Plan de acci\\xc3\\xb3n</title>\\r\\n\\r\\n    </head>\\n<body>\\r\\n\\r\\n        <!----------------- HEADER ----------------->\\r\\n        <header>\\r\\n            <div class=\"container\">\\r\\n                <a class=\"navbar-brand\" href=\"https://www.gob.cl/\" target=\"_blank\"><img src=\"https://cdn.digital.gob.cl/filer_public/2f/9c/2f9cb47c-9ab7-499b-aa34-399f720aa3f5/logo-gob-header.png\" class=\"d-inline-block align-top img-fluid logo-img float-left\" alt=\"Gobierno de Chile\"></a>\\r\\n                <img src=\"https://cdn.digital.gob.cl/filer_public/ea/c0/eac0a714-2216-4d8c-9d8d-1526ee6173df/logo-header.png\" class=\"d-inline-block  img-fluid float-right\" alt=\"Gobierno de Chile\">\\r\\n            </div>\\r\\n        </header>\\r\\n      <div class=\"row header\">\\r\\n            <div class=\"container\">\\r\\n                <nav class=\"navbar navbar-expand-lg navbar-dark justify-content-end\">\\r\\n                    <button class=\"navbar-toggler\" type=\"button\" data-toggle=\"collapse\" data-target=\"#navbarSupportedContent\" aria-controls=\"navbarSupportedContent\" aria-expanded=\"false\" aria-label=\"Toggle navigation\">\\r\\n                        <span class=\"navbar-toggler-icon\"></span>\\r\\n                    </button>\\r\\n                    <div class=\"collapse navbar-collapse justify-content-center\" id=\"navbarSupportedContent\" style=\"z-index: 1;\">\\r\\n                        <ul class=\"nav\">\\r\\n                               <li class=\"nav-item\">\\r\\n                                    <a class=\"nav-link\" href=\"https://www.gob.cl/coronavirus\">Inicio</a>\\r\\n                                </li>\\r\\n                                <li class=\"nav-item\">\\r\\n                                    <a class=\"nav-link\" href=\"https://www.gob.cl/coronavirus#preguntasfrecuentes\">Preguntas Frecuentes</a>\\r\\n                                </li>\\r\\n                                <li class=\"nav-item\">\\r\\n                                    <a class=\"nav-link\" href=\"https://www.gob.cl/coronavirus/plandeaccion\">Plan de Acci\\xc3\\xb3n</a>\\r\\n                                </li>\\r\\n                                <li class=\"nav-item\">\\r\\n                                    <a class=\"nav-link\" href=\"https://www.gob.cl/coronavirus/cuarentena\">Cuarentena</a>\\r\\n                                </li>\\r\\n                                <li class=\"nav-item\">\\r\\n                                    <a class=\"nav-link\" href=\"https://www.gob.cl/coronavirus/protocolos\">Protocolos</a>\\r\\n                                </li>\\r\\n                                <li class=\"nav-item\">\\r\\n                                    <a class=\"nav-link\" href=\"https://www.gob.cl/coronavirus/cifrasoficiales\">Cifras Oficiales</a>\\r\\n                                </li>\\r\\n                                <li class=\"nav-item\">\\r\\n                                    <a class=\"nav-link\" href=\"https://www.gob.cl/coronavirus/noticias\">Noticias</a>\\r\\n                                </li>                                 \\r\\n                        </ul>   \\r\\n                    </div>\\r\\n                </nav>\\r\\n            </div>\\r\\n        </div>\\r\\n\\r\\n        <!----------------- JUMBOTRON ----------------->\\r\\n        <div class=\"jumbotron jumbotron-fluid\">\\r\\n            <div class=\"container\">\\r\\n                <h2>Cifras Oficiales<br><strong>COVID-19</strong></h2>\\r\\n            </div>\\r\\n        </div>\\r\\n        <div class=\"row\">\\r\\n            <div class=\"container d-lg-flex justify-content-start\">\\r\\n\\r\\n                    <a class=\"nav-link\" href=\"#reportes\"><button class=\"btn btn-danger\">Reportes Diarios</button></a>\\r\\n            \\r\\n                    <a class=\"nav-link\" href=\"#informes\"><button class=\"btn btn-danger\">Informes Epidemiol\\xc3\\xb3gicos</button></a>\\r\\n               \\r\\n                    \\r\\n                <!-- <nav class=\"navbar navbar-expand-lg navbar-dark justify-content-end\">\\r\\n                    <ul class=\"nav\">\\r\\n                        <li class=\"nav-item\">\\r\\n                            <a class=\"nav-link\" href=\"#reportes\"><button class=\"btn btn-danger\">Reportes Diarios</button></a>\\r\\n                        </li>\\r\\n                        <li class=\"nav-item\">\\r\\n                            <a class=\"nav-link\" href=\"#informes\">Informes Epidemiol\\xc3\\xb3gicos</a>\\r\\n                        </li>\\r\\n                    </ul>\\r\\n                </nav> -->\\r\\n            </div>\\r\\n        </div>\\r\\n                <br><br>         \\r\\n\\r\\n        <div class=\"container\">\\r\\n                <div class=\"infogram-embed\" data-id=\"5228ca64-ea33-4656-8a05-057e63f76fe4\" data-type=\"interactive\" data-title=\"mapa coronavirus\"></div><script>!function(e,i,n,s){var t=\"InfogramEmbeds\",d=e.getElementsByTagName(\"script\")[0];if(window[t]&&window[t].initialized)window[t].process&&window[t].process();else if(!e.getElementById(n)){var o=e.createElement(\"script\");o.async=1,o.id=n,o.src=\"https://e.infogram.com/js/dist/embed-loader-min.js\",d.parentNode.insertBefore(o,d)}}(document,0,\"infogram-async\");</script><div style=\"padding:8px 0;font-family:Arial!important;font-size:13px!important;line-height:15px!important;text-align:center;border-top:1px solid #dadada;margin:0 30px\"><a href=\"https://infogram.com/5228ca64-ea33-4656-8a05-057e63f76fe4\" style=\"color:#989898!important;text-decoration:none!important;\" target=\"_blank\">mapa coronavirus</a><br><a href=\"https://infogram.com\" style=\"color:#989898!important;text-decoration:none!important;\" target=\"_blank\" rel=\"nofollow\">Infogram</a></div>\\r\\n\\r\\n\\r\\n\\r\\n        </div>\\r\\n<!--         <div class=\"row\">\\r\\n            <div class=\"container d-flex justify-content-center my-4\">\\r\\n                <a href=\"https://cdn.digital.gob.cl/public_files/Campa%C3%B1as/Corona-Virus/Reportes/02.04.2020_Reporte_Covid19.pdf\" target=\"_blank\"><button class=\"btn btn-danger\" style=\"font-size: 16px;\"><i class=\"fas fa-cloud-download-alt\"></i>&nbsp; Descargar Reporte 2 de abril de 2020</button></a>       \\r\\n            </div>\\r\\n        </div>   -->\\r\\n\\r\\n\\r\\n       <div class=\"row my-4\" id=\"reportes\">\\r\\n            <div class=\"container\">\\r\\n                <div class=\"card py-lg-5 px-lg-4\">\\r\\n                    <div class=\"card-body\">\\r\\n                        <h3 class=\"h2  text-center\">Reportes Diarios</h3> \\r\\n                        <br>\\r\\n                        <div class=\"table-responsive\">\\r\\n                            <table class=\"table\">\\r\\n                                <thead class=\"table-danger text-dark\">\\r\\n    <tr>\\r\\n                                        <th scope=\"col\">Fecha</th>\\r\\n                                        <th scope=\"col\">Link de Descarga</th>\\r\\n                                    </tr>\\r\\n                                </thead> \\r\\n                                <tbody>\\r\\n<tr>\\r\\n                                        <td>05/04/2020</td>\\r\\n                                        <td><a href=\"https://cdn.digital.gob.cl/public_files/Campa%C3%B1as/Corona-Virus/Reportes/05.04.2020_Reporte_Covid19.pdf\" target=\"_blank\"><button class=\"btn btn-danger\">Descargar reporte <i class=\"fas fa-cloud-download-alt\"></i></button> </a></td>\\r\\n                                    </tr>\\r\\n  <tr>\\r\\n                                        <td>04/04/2020</td>\\r\\n                                        <td><a href=\"https://cdn.digital.gob.cl/public_files/Campa%C3%B1as/Corona-Virus/Reportes/04.04.2020_Reporte_Covid19.pdf\" target=\"_blank\"><button class=\"btn btn-danger\">Descargar reporte <i class=\"fas fa-cloud-download-alt\"></i></button> </a></td>\\r\\n                                    </tr>\\r\\n      <tr>\\r\\n                                        <td>03/04/2020</td>\\r\\n                                        <td><a href=\"https://cdn.digital.gob.cl/public_files/Campa%C3%B1as/Corona-Virus/Reportes/03.04.2020_Reporte_Covid19.pdf\" target=\"_blank\"><button class=\"btn btn-danger\">Descargar reporte <i class=\"fas fa-cloud-download-alt\"></i></button> </a></td>\\r\\n                                    </tr>\\r\\n                                    <tr>\\r\\n                                    <tr>\\r\\n                                        <td>02/04/2020</td>\\r\\n                                        <td><a href=\"https://cdn.digital.gob.cl/public_files/Campa%C3%B1as/Corona-Virus/Reportes/02.04.2020_Reporte_Covid19.pdf\" target=\"_blank\"><button class=\"btn btn-danger\">Descargar reporte <i class=\"fas fa-cloud-download-alt\"></i></button> </a></td>\\r\\n                                    </tr>\\r\\n                                    <tr>\\r\\n                                        <td>01/04/2020</td>\\r\\n                                        <td><a href=\"https://cdn.digital.gob.cl/public_files/Campa%C3%B1as/Corona-Virus/Reportes/01.04.2020_Reporte_Covid19.pdf\" target=\"_blank\"><button class=\"btn btn-danger\">Descargar reporte <i class=\"fas fa-cloud-download-alt\"></i></button></a></td>\\r\\n                                    </tr>\\r\\n                                    \\r\\n                                </tbody>\\r\\n                            </table>\\r\\n                        </div>\\r\\n                    </div>\\r\\n                </div> \\r\\n            </div>\\r\\n        </div>\\r\\n\\r\\n       <div class=\"row my-4\" id=\"informes\">\\r\\n            <div class=\"container\">\\r\\n                <div class=\"card py-lg-5 px-lg-4\">\\r\\n                <div class=\"card-body\">\\r\\n                    <h3 class=\"h2  text-center\">Informes Epidemiol\\xc3\\xb3gicos</h3> \\r\\n                    <br>\\r\\n                    <div class=\"table-responsive\">\\r\\n                        <table class=\"table\">\\r\\n                            <thead class=\"table-danger text-dark\">\\r\\n                                <tr>\\r\\n                                    <th scope=\"col\">Fecha</th>\\r\\n                                    <th scope=\"col\">Link de Descarga</th>\\r\\n                                </tr>\\r\\n                            </thead> \\r\\n                            <tbody>\\r\\n<tr>\\r\\n                                    <td>03/04/2020</td>\\r\\n                                    <td><a href=\"https://www.minsal.cl/wp-content/uploads/2020/04/Informe_EPI_03_04_2020.pdf\" target=\"_blank\"><button class=\"btn btn-danger\">Descargar Informe <i class=\"fas fa-cloud-download-alt\"></i></button> </a></td>\\r\\n                                </tr>\\r\\n                                <tr>\\r\\n                                    <td>01/04/2020</td>\\r\\n                                    <td><a href=\"https://cdn.digital.gob.cl/public_files/Campa%C3%B1as/Corona-Virus/Reportes/INFORME_EPI_COVID19_20200401v2.pdf\" target=\"_blank\"><button class=\"btn btn-danger\">Descargar Informe <i class=\"fas fa-cloud-download-alt\"></i></button> </a></td>\\r\\n                                </tr>\\r\\n                                <tr>\\r\\n                                    <td>30/03/2020</td>\\r\\n                                    <td><button class=\"btn btn-danger\"><a href=\"https://cdn.digital.gob.cl/public_files/Campa%C3%B1as/Corona-Virus/Reportes/INFORME_EPI_COVID19_20200330.pdf\" class=\"text-white\" target=\"_blank\">Descargar Informe <i class=\"fas fa-cloud-download-alt\"></i> </a></button></td>\\r\\n                                </tr>\\r\\n                            </tbody>\\r\\n                        </table>\\r\\n                        </div>\\r\\n                    </div>\\r\\n                </div> \\r\\n            </div>\\r\\n        </div>\\r\\n               \\r\\n    <!----------------- FOOTER (LOGO Y REDES SOCIALES) ----------------->\\r\\n    <footer class=\"footer\">\\r\\n        <div class=\"row\">\\r\\n            <div class=\"container mt-3 mb-1\">\\r\\n                <div class=\"col-12 pb-3\">\\r\\n                    <img src=\"https://cdn.digital.gob.cl/filer_public/ac/e6/ace643c9-d0c8-4769-8bc7-82ae033eb7b7/salud-responde.png\" alt=\"\" class=\"img-fluid\"><br>\\r\\n                    <p class=\"numerocontacto\">600 &#9679; 360 &#9679; 7777</p></div>\\r\\n                </div>\\r\\n            </div>\\r\\n        </div>\\r\\n        <div class=\"container\">\\r\\n                <div class=\"border-bottom\"></div>\\r\\n            </div>\\r\\n        <div class=\"row\">\\r\\n            <div class=\"container mt-3 mb-1 d-lg-flex align-items-center\">\\r\\n                <div class=\"col-12 col-xl-9\">\\r\\n                    <div class=\"col-12 col-md-6 pb-3\">\\r\\n                        <p><b>Informaci\\xc3\\xb3n Oficial Coronavirus</b></p>\\r\\n                                 <a href=\"https://www.gob.cl/coronavirus\">Inicio</a><br>\\r\\n                                <a href=\"https://www.gob.cl/coronavirus#preguntasfrecuentes\">Preguntas Frecuentes</a><br>\\r\\n                                <a href=\"https://www.gob.cl/coronavirus/plandeaccion\">Plan de Acci\\xc3\\xb3n</a><br>\\r\\n                               <a href=\"/coronavirus/cuarentena\">Cuarentena</a><br>\\r\\n                                <a href=\"https://www.gob.cl/coronavirus/protocolos\">Protocolos</a><br>\\r\\n                                <a href=\"https://www.gob.cl/coronavirus/cifrasoficiales\">Cifras Oficiales</a><br>\\r\\n                                <a href=\"https://www.gob.cl/coronavirus/mitos\">Mitos</a><br>\\r\\n                                <a href=\"https://www.gob.cl/coronavirus/noticias\">Noticias</a><br> \\r\\n                                <a href=\"https://www.gob.cl/coronavirus/descargas\">Descargas</a><br>             \\r\\n                    </div>\\r\\n                </div>\\r\\n                <div class=\"col-12 col-xl-3 d-flex align-items-flex-start mx-auto\">  \\r\\n                   <p>S\\xc3\\xadguenos:</p>  \\r\\n                   <br>\\r\\n                    <div>\\r\\n                        <a href=\"https://www.facebook.com/ministeriosaludchile/\" target=\"_blank\" rel=\"noopener noreferrer\">\\r\\n                            <i class=\"fab fa-facebook-f\"></i>\\r\\n                        </a>\\r\\n                    </div>                  \\r\\n                    <div>\\r\\n                        <a href=\"https://twitter.com/ministeriosalud\" target=\"_blank\" rel=\"noopener noreferrer\">\\r\\n                            <i class=\"fab fa-twitter\"></i>\\r\\n                        </a>\\r\\n                    </div>\\r\\n                \\r\\n                    <div>\\r\\n                        <a href=\"https://www.instagram.com/ministeriosalud/\" target=\"_blank\" rel=\"noopener noreferrer\">\\r\\n                            <i class=\"fab fa-instagram\"></i>\\r\\n                        </a>\\r\\n                    </div>                          \\r\\n                </div>\\r\\n            </div>\\r\\n        </div>\\r\\n        <div class=\"container\">\\r\\n            <div class=\"border-bottom\"></div>\\r\\n        </div>\\r\\n        <div class=\"row\">\\r\\n            <div class=\"container relative\">\\r\\n                <div class=\"col-12 col-lg-3 vertical-align-bottom\">\\r\\n                    <a href=\"https://www.gob.cl/\">\\r\\n                        <img src=\"https://cdn.digital.gob.cl/filer_public/bd/1f/bd1f2309-ac14-447e-8aae-ec7228bee7b2/logo-gob-footer.png\" width=\"150px\" alt=\"Gobierno de Chile\" class=\"align-bottom\">\\r\\n                    </a>\\r\\n                </div>\\r\\n                <div class=\"col-12 col-lg-9 mt-4 float-right\">\\r\\n                    <div class=\"text-left float-right\">\\r\\n                        <p><small>Desarrollado por Secretar\\xc3\\xada de Comunicaciones - MSGG</small></p>\\r\\n                    </div>\\r\\n                </div>\\r\\n            </div>\\r\\n        </div>\\r\\n    </footer>\\r\\n        \\r\\n        <!----------------- INICIO SCRIPTS ----------------->\\r\\n            <!-- BOOTSTRAP SCRIPTS -->\\r\\n            <!-- jQuery first, then Popper.js, then Bootstrap JS -->\\r\\n            <script src=\"https://code.jquery.com/jquery-3.3.1.slim.min.js\" integrity=\"sha384-q8i/X+965DzO0rT7abK41JStQIAqVgRVzpbzo5smXKp4YfRvH+8abtTE1Pi6jizo\" crossorigin=\"anonymous\"></script>            \\r\\n            <script src=\"https://code.jquery.com/jquery-2.2.4.js\" integrity=\"sha256-iT6Q9iMJYuQiMWNd9lDyBUStIq/8PuOW33aOqmvFpqI=\"  crossorigin=\"anonymous\"></script>\\r\\n            <script src=\"https://cdnjs.cloudflare.com/ajax/libs/popper.js/1.14.3/umd/popper.min.js\" integrity=\"sha384-ZMP7rVo3mIykV+2+9J3UJ46jBk0WLaUAdn689aCwoqbBJiSnjAK/l8WvCWPIPm49\" crossorigin=\"anonymous\"></script>\\r\\n            <script src=\"https://stackpath.bootstrapcdn.com/bootstrap/4.1.1/js/bootstrap.min.js\" integrity=\"sha384-smHYKdLADwkXOn1EmN1qk/HfnUcbVRZyYmZ4qpPea6sjB/pTJ0euyQp0Mk8ck+5T\" crossorigin=\"anonymous\"></script>\\r\\n\\r\\n            \\r\\n            <!-- FontAwesome kit -->\\r\\n            <script src=\"https://kit.fontawesome.com/99f6481b29.js\" crossorigin=\"anonymous\"></script>\\r\\n            <!-- FIN -->\\r\\n\\r\\n            <script type=\"text/javascript\">\\r\\n                /* SCRIPT BOT\\xc3\\x93N VOLVER ARRIBA */\\r\\n\\r\\n                $(document).ready(function() {\\r\\n                    $(\\'#arriba\\').click(function(){ //Id del elemento cliqueable\\r\\n                        $(\\'html, body\\').animate({scrollTop:0}, \\'slow\\');\\r\\n                        return false;\\r\\n                    });\\r\\n                });\\r\\n              \\r\\n                /* SCRIPT BOT\\xc3\\x93N VOLVER ARRIBA */\\r\\n\\r\\n            /* SCRIPT ACCORDEON */\\r\\n            (function() {\\r\\n                var acc = document.getElementsByClassName(\"acordion\");\\r\\n                var i, g;\\r\\n                for (i = 0; i < acc.length; i++) {\\r\\n                    acc[i].onclick = function() {\\r\\n                    this.classList.toggle(\"active\");\\r\\n                    var panel = this.nextElementSibling;\\r\\n                    if (panel.style.maxHeight) {\\r\\n                        panel.style.maxHeight = null;\\r\\n                    } else {\\r\\n                        for (g = 0; g < acc.length; g++) {\\r\\n                        var activeElem = acc[g],\\r\\n                            contentHeight = activeElem.nextElementSibling.style;\\r\\n\\r\\n                        if (contentHeight.maxHeight) {\\r\\n                            activeElem.classList.toggle(\"active\");\\r\\n                        }\\r\\n                        contentHeight.maxHeight = null;\\r\\n                        }\\r\\n                        panel.style.maxHeight = panel.scrollHeight + \"px\";\\r\\n                    }\\r\\n                    };\\r\\n                }\\r\\n            })();\\r\\n            /* FIN */       \\r\\n            </script>\\r\\n\\r\\n    </body>\\r\\n\\r\\n</html>\\n\\n    <!-- Javascript Placed at the end of the document so the pages load faster-->\\n    <!-- uncompressible javascripts-->\\n    <script src=\"https://code.jquery.com/jquery-3.2.1.min.js\" integrity=\"sha256-hwg4gsxgFZhOsEEamdOYGBf13FyQuiTwlAQgxVSNgt4=\" crossorigin=\"anonymous\"></script>\\n    <script src=\"https://cdnjs.cloudflare.com/ajax/libs/popper.js/1.12.3/umd/popper.min.js\" integrity=\"sha384-vFJXuSJphROIrBnz7yo7oB41mKfc8JzQZiCq4NCceLEaO4IHwicKwpJf9c9IpFgh\" crossorigin=\"anonymous\"></script>\\n    <script src=\"https://maxcdn.bootstrapcdn.com/bootstrap/4.0.0-beta.2/js/bootstrap.min.js\" integrity=\"sha384-alpBpkh1PFOepccYVYDB4do5UnbKysX5WZXm3XxPqe5iKTfUKjNkCk9SaVuEZflJ\" crossorigin=\"anonymous\"></script>\\n    <script src=\"https://cdnjs.cloudflare.com/ajax/libs/slick-carousel/1.8.1/slick.min.js\" integrity=\"sha256-DHF4zGyjT7GOMPBwpeehwoey18z8uiz98G4PRu2lV0A=\" crossorigin=\"anonymous\"></script>\\n    <script src=\"https://cdnjs.cloudflare.com/ajax/libs/magnific-popup.js/1.1.0/jquery.magnific-popup.min.js\" integrity=\"sha256-P93G0oq6PBPWTP1IR8Mz/0jHHUpaWL0aBJTKauisG7Q=\" crossorigin=\"anonymous\"></script>\\n\\n    <!-- templates-->\\n    <script type=\"text/pug\" src=\"https://cdn.digital.gob.cl/templates/users/detail.pug\"></script>\\n\\n<script type=\"text/javascript\" src=\"https://cdn.digital.gob.cl/CACHE/js/038e6cdcd069.js\"></script>\\n\\n  </body>\\n</html>'"
      ]
     },
     "execution_count": 5,
     "metadata": {},
     "output_type": "execute_result"
    }
   ],
   "source": [
    "response\n"
   ]
  },
  {
   "cell_type": "markdown",
   "metadata": {
    "colab_type": "text",
    "id": "i3FOkesv1Js4"
   },
   "source": [
    "#### Double Check"
   ]
  },
  {
   "cell_type": "code",
   "execution_count": 0,
   "metadata": {
    "colab": {
     "base_uri": "https://localhost:8080/",
     "height": 121
    },
    "colab_type": "code",
    "id": "WcxOyl_21Js5",
    "outputId": "5a994739-d722-451d-c8fc-3e678f3e0022"
   },
   "outputs": [
    {
     "data": {
      "text/plain": [
       "['cdn.digital.gob.cl/public_files/Campa%C3%B1as/Corona-Virus/Reportes/02.04.2020_Reporte_Covid19.pdf',\n",
       " 'cdn.digital.gob.cl/public_files/Campa%C3%B1as/Corona-Virus/Reportes/05.04.2020_Reporte_Covid19.pdf',\n",
       " 'cdn.digital.gob.cl/public_files/Campa%C3%B1as/Corona-Virus/Reportes/04.04.2020_Reporte_Covid19.pdf',\n",
       " 'cdn.digital.gob.cl/public_files/Campa%C3%B1as/Corona-Virus/Reportes/03.04.2020_Reporte_Covid19.pdf',\n",
       " 'cdn.digital.gob.cl/public_files/Campa%C3%B1as/Corona-Virus/Reportes/02.04.2020_Reporte_Covid19.pdf',\n",
       " 'cdn.digital.gob.cl/public_files/Campa%C3%B1as/Corona-Virus/Reportes/01.04.2020_Reporte_Covid19.pdf']"
      ]
     },
     "execution_count": 57,
     "metadata": {
      "tags": []
     },
     "output_type": "execute_result"
    }
   ],
   "source": [
    "url_reporte"
   ]
  },
  {
   "cell_type": "code",
   "execution_count": 0,
   "metadata": {
    "colab": {
     "base_uri": "https://localhost:8080/",
     "height": 52
    },
    "colab_type": "code",
    "id": "6lHUgKgX1JtB",
    "outputId": "4fea3818-be0b-4e06-fe03-718a9ab286a0"
   },
   "outputs": [
    {
     "data": {
      "text/plain": [
       "['cdn.digital.gob.cl/public_files/Campa%C3%B1as/Corona-Virus/Reportes/INFORME_EPI_COVID19_20200401v2.pdf',\n",
       " 'cdn.digital.gob.cl/public_files/Campa%C3%B1as/Corona-Virus/Reportes/INFORME_EPI_COVID19_20200330.pdf']"
      ]
     },
     "execution_count": 58,
     "metadata": {
      "tags": []
     },
     "output_type": "execute_result"
    }
   ],
   "source": [
    "url_informe_epi"
   ]
  },
  {
   "cell_type": "markdown",
   "metadata": {
    "colab_type": "text",
    "id": "n1ERe-V91JtH"
   },
   "source": [
    "# Descarga Informes"
   ]
  },
  {
   "cell_type": "code",
   "execution_count": 0,
   "metadata": {
    "colab": {},
    "colab_type": "code",
    "id": "ybDpazU11JtI"
   },
   "outputs": [],
   "source": [
    "for url in set(url_reporte):\n",
    "    subprocess.check_output(shlex.split(\"wget \"+ url))"
   ]
  },
  {
   "cell_type": "code",
   "execution_count": 0,
   "metadata": {
    "colab": {},
    "colab_type": "code",
    "id": "cQDbiH2e1JtM"
   },
   "outputs": [],
   "source": [
    "for url in set(url_informe_epi):\n",
    "    subprocess.check_output(shlex.split(\"wget \"+ url))"
   ]
  },
  {
   "cell_type": "code",
   "execution_count": 0,
   "metadata": {
    "colab": {
     "base_uri": "https://localhost:8080/",
     "height": 86
    },
    "colab_type": "code",
    "id": "DdNpSunC1JtR",
    "outputId": "6bd5f434-0c3c-4870-c925-8ae5e74ecee2"
   },
   "outputs": [
    {
     "name": "stdout",
     "output_type": "stream",
     "text": [
      "01.04.2020_Reporte_Covid19.pdf\t05.04.2020_Reporte_Covid19.pdf\n",
      "02.04.2020_Reporte_Covid19.pdf\tINFORME_EPI_COVID19_20200330.pdf\n",
      "03.04.2020_Reporte_Covid19.pdf\tINFORME_EPI_COVID19_20200401v2.pdf\n",
      "04.04.2020_Reporte_Covid19.pdf\tsample_data\n"
     ]
    }
   ],
   "source": [
    "!ls"
   ]
  },
  {
   "cell_type": "code",
   "execution_count": 0,
   "metadata": {
    "colab": {},
    "colab_type": "code",
    "id": "0jzUypNc1JtW"
   },
   "outputs": [],
   "source": []
  },
  {
   "cell_type": "markdown",
   "metadata": {
    "colab_type": "text",
    "id": "99e7rSXN1Jtb"
   },
   "source": [
    "# Preprocesamiento\n",
    "\n",
    "Usamos tabula-py: wrapper de Tabula App (escrita en Java). A library for extracting tables from PDF files \n",
    "https://github.com/chezou/tabula-py"
   ]
  },
  {
   "cell_type": "code",
   "execution_count": 0,
   "metadata": {
    "colab": {
     "base_uri": "https://localhost:8080/",
     "height": 173
    },
    "colab_type": "code",
    "id": "JZgeTj9M1Jtc",
    "outputId": "f5c449d6-1781-4d9e-cfc2-07831d324ca3"
   },
   "outputs": [
    {
     "name": "stdout",
     "output_type": "stream",
     "text": [
      "20200401v2\n"
     ]
    },
    {
     "name": "stderr",
     "output_type": "stream",
     "text": [
      "Got stderr: Apr 05, 2020 7:59:12 PM org.apache.pdfbox.pdmodel.font.PDTrueTypeFont <init>\n",
      "WARNING: Using fallback font 'LiberationSans' for 'TimesNewRomanPSMT'\n",
      "Apr 05, 2020 7:59:12 PM org.apache.pdfbox.pdmodel.font.PDTrueTypeFont <init>\n",
      "WARNING: Using fallback font 'LiberationSans' for 'TimesNewRomanPSMT'\n",
      "Apr 05, 2020 7:59:12 PM org.apache.pdfbox.pdmodel.font.PDTrueTypeFont <init>\n",
      "WARNING: Using fallback font 'LiberationSans' for 'TimesNewRomanPSMT'\n",
      "\n"
     ]
    },
    {
     "name": "stdout",
     "output_type": "stream",
     "text": [
      "20200330\n"
     ]
    }
   ],
   "source": [
    "import tabula\n",
    "\n",
    "dfs_files = {}\n",
    "for url in url_informe_epi:\n",
    "    pdf_file = url.split('/')[-1]\n",
    "    df = tabula.read_pdf(pdf_file, pages='all', multiple_tables=True)\n",
    "    \n",
    "    fecha = pdf_file.split('_')[-1].split('.')[0]\n",
    "    print(fecha)\n",
    "    dfs_files['tablas_' + fecha] = df\n",
    "              \n",
    "              "
   ]
  },
  {
   "cell_type": "markdown",
   "metadata": {
    "colab_type": "text",
    "id": "5uGt3giW1Jti"
   },
   "source": [
    "Verificamos algunas tablas"
   ]
  },
  {
   "cell_type": "code",
   "execution_count": 0,
   "metadata": {
    "colab": {},
    "colab_type": "code",
    "id": "rbGyoGLQ1Jti"
   },
   "outputs": [],
   "source": [
    "tablas_20200401 = dfs_files['tablas_20200401v2']\n",
    "tablas_20200330 = dfs_files['tablas_20200330']"
   ]
  },
  {
   "cell_type": "code",
   "execution_count": 0,
   "metadata": {
    "colab": {
     "base_uri": "https://localhost:8080/",
     "height": 278
    },
    "colab_type": "code",
    "id": "CbjuTFLE1Jtn",
    "outputId": "9eb945bd-7834-423e-ab4e-c7e79231b3d7"
   },
   "outputs": [
    {
     "name": "stdout",
     "output_type": "stream",
     "text": [
      "tabla_6\n",
      "tabla_7\n",
      "tabla_8\n",
      "tabla_9\n",
      "tabla_10\n",
      "tabla_11\n",
      "tabla_14\n",
      "tabla_15\n",
      "tabla_16\n",
      "tabla_17\n",
      "tabla_18\n",
      "tabla_19\n",
      "tabla_20\n",
      "tabla_21\n",
      "tabla_22\n"
     ]
    }
   ],
   "source": [
    "df_comunas_20200401 = {}\n",
    "unnamed_primeraCol = {}\n",
    "for idx, df in enumerate(tablas_20200401):\n",
    "\n",
    "    if 'Comuna' in df.columns:\n",
    "        \n",
    "        key= 'tabla_' + str(idx + 1)\n",
    "        print(key)\n",
    "        df_comunas_20200401[key] = df"
   ]
  },
  {
   "cell_type": "code",
   "execution_count": 0,
   "metadata": {
    "colab": {
     "base_uri": "https://localhost:8080/",
     "height": 206
    },
    "colab_type": "code",
    "id": "k3nfzxXH1Jtr",
    "outputId": "e9f924e2-b934-4972-8d43-a3c6d0fcf430"
   },
   "outputs": [
    {
     "data": {
      "text/html": [
       "<div>\n",
       "<style scoped>\n",
       "    .dataframe tbody tr th:only-of-type {\n",
       "        vertical-align: middle;\n",
       "    }\n",
       "\n",
       "    .dataframe tbody tr th {\n",
       "        vertical-align: top;\n",
       "    }\n",
       "\n",
       "    .dataframe thead th {\n",
       "        text-align: right;\n",
       "    }\n",
       "</style>\n",
       "<table border=\"1\" class=\"dataframe\">\n",
       "  <thead>\n",
       "    <tr style=\"text-align: right;\">\n",
       "      <th></th>\n",
       "      <th>Unnamed: 0</th>\n",
       "      <th>Comuna</th>\n",
       "      <th>N°</th>\n",
       "      <th>Unnamed: 1</th>\n",
       "      <th>Población</th>\n",
       "      <th>Tasa</th>\n",
       "      <th>Unnamed: 2</th>\n",
       "    </tr>\n",
       "  </thead>\n",
       "  <tbody>\n",
       "    <tr>\n",
       "      <th>0</th>\n",
       "      <td>Arica</td>\n",
       "      <td>NaN</td>\n",
       "      <td>NaN</td>\n",
       "      <td>6</td>\n",
       "      <td>247552</td>\n",
       "      <td>NaN</td>\n",
       "      <td>2,4</td>\n",
       "    </tr>\n",
       "    <tr>\n",
       "      <th>1</th>\n",
       "      <td>Camarones</td>\n",
       "      <td>NaN</td>\n",
       "      <td>NaN</td>\n",
       "      <td>-</td>\n",
       "      <td>1233</td>\n",
       "      <td>NaN</td>\n",
       "      <td>0</td>\n",
       "    </tr>\n",
       "    <tr>\n",
       "      <th>2</th>\n",
       "      <td>General Lagos</td>\n",
       "      <td>NaN</td>\n",
       "      <td>NaN</td>\n",
       "      <td>-</td>\n",
       "      <td>810</td>\n",
       "      <td>NaN</td>\n",
       "      <td>0</td>\n",
       "    </tr>\n",
       "    <tr>\n",
       "      <th>3</th>\n",
       "      <td>Putre</td>\n",
       "      <td>NaN</td>\n",
       "      <td>NaN</td>\n",
       "      <td>-</td>\n",
       "      <td>2515</td>\n",
       "      <td>NaN</td>\n",
       "      <td>0</td>\n",
       "    </tr>\n",
       "    <tr>\n",
       "      <th>4</th>\n",
       "      <td>Total</td>\n",
       "      <td>NaN</td>\n",
       "      <td>NaN</td>\n",
       "      <td>6</td>\n",
       "      <td>252110</td>\n",
       "      <td>NaN</td>\n",
       "      <td>2,4</td>\n",
       "    </tr>\n",
       "  </tbody>\n",
       "</table>\n",
       "</div>"
      ],
      "text/plain": [
       "      Unnamed: 0  Comuna  N° Unnamed: 1  Población  Tasa Unnamed: 2\n",
       "0          Arica     NaN NaN          6     247552   NaN        2,4\n",
       "1      Camarones     NaN NaN          -       1233   NaN          0\n",
       "2  General Lagos     NaN NaN          -        810   NaN          0\n",
       "3          Putre     NaN NaN          -       2515   NaN          0\n",
       "4          Total     NaN NaN          6     252110   NaN        2,4"
      ]
     },
     "execution_count": 65,
     "metadata": {
      "tags": []
     },
     "output_type": "execute_result"
    }
   ],
   "source": [
    "df_comunas_20200401['tabla_6'].head()"
   ]
  },
  {
   "cell_type": "markdown",
   "metadata": {
    "colab_type": "text",
    "id": "3sddHtsH1Jtv"
   },
   "source": [
    "Tabla empieza con un *Unnamed: 0*"
   ]
  },
  {
   "cell_type": "code",
   "execution_count": 0,
   "metadata": {
    "colab": {
     "base_uri": "https://localhost:8080/",
     "height": 206
    },
    "colab_type": "code",
    "id": "UGLKkH5a1Jtw",
    "outputId": "83925621-8539-431f-9503-0f01bc9e4f1c"
   },
   "outputs": [
    {
     "data": {
      "text/html": [
       "<div>\n",
       "<style scoped>\n",
       "    .dataframe tbody tr th:only-of-type {\n",
       "        vertical-align: middle;\n",
       "    }\n",
       "\n",
       "    .dataframe tbody tr th {\n",
       "        vertical-align: top;\n",
       "    }\n",
       "\n",
       "    .dataframe thead th {\n",
       "        text-align: right;\n",
       "    }\n",
       "</style>\n",
       "<table border=\"1\" class=\"dataframe\">\n",
       "  <thead>\n",
       "    <tr style=\"text-align: right;\">\n",
       "      <th></th>\n",
       "      <th>Comuna</th>\n",
       "      <th>N°</th>\n",
       "      <th>Unnamed: 0</th>\n",
       "      <th>Población</th>\n",
       "      <th>Unnamed: 1</th>\n",
       "      <th>Tasa</th>\n",
       "      <th>Unnamed: 2</th>\n",
       "    </tr>\n",
       "  </thead>\n",
       "  <tbody>\n",
       "    <tr>\n",
       "      <th>0</th>\n",
       "      <td>Antártica</td>\n",
       "      <td>NaN</td>\n",
       "      <td>-</td>\n",
       "      <td>137</td>\n",
       "      <td>NaN</td>\n",
       "      <td>NaN</td>\n",
       "      <td>0,0</td>\n",
       "    </tr>\n",
       "    <tr>\n",
       "      <th>1</th>\n",
       "      <td>Cabo de Hornos</td>\n",
       "      <td>NaN</td>\n",
       "      <td>6</td>\n",
       "      <td>1983</td>\n",
       "      <td>NaN</td>\n",
       "      <td>NaN</td>\n",
       "      <td>302,6</td>\n",
       "    </tr>\n",
       "    <tr>\n",
       "      <th>2</th>\n",
       "      <td>Laguna Blanca</td>\n",
       "      <td>NaN</td>\n",
       "      <td>-</td>\n",
       "      <td>264</td>\n",
       "      <td>NaN</td>\n",
       "      <td>NaN</td>\n",
       "      <td>0,0</td>\n",
       "    </tr>\n",
       "    <tr>\n",
       "      <th>3</th>\n",
       "      <td>Natales</td>\n",
       "      <td>NaN</td>\n",
       "      <td>4</td>\n",
       "      <td>23782</td>\n",
       "      <td>NaN</td>\n",
       "      <td>NaN</td>\n",
       "      <td>16,8</td>\n",
       "    </tr>\n",
       "    <tr>\n",
       "      <th>4</th>\n",
       "      <td>Porvenir</td>\n",
       "      <td>NaN</td>\n",
       "      <td>-</td>\n",
       "      <td>7323</td>\n",
       "      <td>NaN</td>\n",
       "      <td>NaN</td>\n",
       "      <td>27,3</td>\n",
       "    </tr>\n",
       "  </tbody>\n",
       "</table>\n",
       "</div>"
      ],
      "text/plain": [
       "           Comuna  N° Unnamed: 0  Población  Unnamed: 1  Tasa Unnamed: 2\n",
       "0       Antártica NaN          -        137         NaN   NaN        0,0\n",
       "1  Cabo de Hornos NaN          6       1983         NaN   NaN      302,6\n",
       "2   Laguna Blanca NaN          -        264         NaN   NaN        0,0\n",
       "3         Natales NaN          4      23782         NaN   NaN       16,8\n",
       "4        Porvenir NaN          -       7323         NaN   NaN       27,3"
      ]
     },
     "execution_count": 66,
     "metadata": {
      "tags": []
     },
     "output_type": "execute_result"
    }
   ],
   "source": [
    "df_comunas_20200401['tabla_22'].head()"
   ]
  },
  {
   "cell_type": "markdown",
   "metadata": {
    "colab_type": "text",
    "id": "AQaDmXcW1Jt0"
   },
   "source": [
    "Tabla **no** empieza con un *Unnamed: 0*"
   ]
  },
  {
   "cell_type": "code",
   "execution_count": 0,
   "metadata": {
    "colab": {
     "base_uri": "https://localhost:8080/",
     "height": 295
    },
    "colab_type": "code",
    "id": "-DG5PDRp1Jt1",
    "outputId": "e87d640b-cdca-4585-84cb-cf9016f2b657"
   },
   "outputs": [
    {
     "name": "stdout",
     "output_type": "stream",
     "text": [
      "tabla_7\n",
      "tabla_8\n",
      "tabla_9\n",
      "tabla_10\n",
      "tabla_11\n",
      "tabla_12\n",
      "tabla_13\n",
      "tabla_15\n",
      "tabla_16\n",
      "tabla_17\n",
      "tabla_18\n",
      "tabla_19\n",
      "tabla_20\n",
      "tabla_21\n",
      "tabla_22\n",
      "tabla_23\n"
     ]
    }
   ],
   "source": [
    "df_comunas_20200330 = {}\n",
    "unnamed_primeraCol = {}\n",
    "for idx, df in enumerate(tablas_20200330):\n",
    "\n",
    "    if 'Comuna' in df.columns:\n",
    "        \n",
    "        key= 'tabla_' + str(idx + 1)\n",
    "        print(key)\n",
    "        df_comunas_20200330[key] = df"
   ]
  },
  {
   "cell_type": "code",
   "execution_count": 0,
   "metadata": {
    "colab": {
     "base_uri": "https://localhost:8080/",
     "height": 206
    },
    "colab_type": "code",
    "id": "VzVcWOI_1Jt9",
    "outputId": "8b9c2873-4707-447e-8119-ee59b2f62de7"
   },
   "outputs": [
    {
     "data": {
      "text/html": [
       "<div>\n",
       "<style scoped>\n",
       "    .dataframe tbody tr th:only-of-type {\n",
       "        vertical-align: middle;\n",
       "    }\n",
       "\n",
       "    .dataframe tbody tr th {\n",
       "        vertical-align: top;\n",
       "    }\n",
       "\n",
       "    .dataframe thead th {\n",
       "        text-align: right;\n",
       "    }\n",
       "</style>\n",
       "<table border=\"1\" class=\"dataframe\">\n",
       "  <thead>\n",
       "    <tr style=\"text-align: right;\">\n",
       "      <th></th>\n",
       "      <th>Unnamed: 0</th>\n",
       "      <th>Comuna</th>\n",
       "      <th>N°</th>\n",
       "      <th>Unnamed: 1</th>\n",
       "      <th>Población</th>\n",
       "      <th>Tasa</th>\n",
       "      <th>Unnamed: 2</th>\n",
       "    </tr>\n",
       "  </thead>\n",
       "  <tbody>\n",
       "    <tr>\n",
       "      <th>0</th>\n",
       "      <td>Arica</td>\n",
       "      <td>NaN</td>\n",
       "      <td>NaN</td>\n",
       "      <td>6</td>\n",
       "      <td>247552</td>\n",
       "      <td>NaN</td>\n",
       "      <td>2,4</td>\n",
       "    </tr>\n",
       "    <tr>\n",
       "      <th>1</th>\n",
       "      <td>Camarones</td>\n",
       "      <td>NaN</td>\n",
       "      <td>NaN</td>\n",
       "      <td>-</td>\n",
       "      <td>1233</td>\n",
       "      <td>NaN</td>\n",
       "      <td>0,0</td>\n",
       "    </tr>\n",
       "    <tr>\n",
       "      <th>2</th>\n",
       "      <td>General Lagos</td>\n",
       "      <td>NaN</td>\n",
       "      <td>NaN</td>\n",
       "      <td>-</td>\n",
       "      <td>810</td>\n",
       "      <td>NaN</td>\n",
       "      <td>0,0</td>\n",
       "    </tr>\n",
       "    <tr>\n",
       "      <th>3</th>\n",
       "      <td>Putre</td>\n",
       "      <td>NaN</td>\n",
       "      <td>NaN</td>\n",
       "      <td>-</td>\n",
       "      <td>2515</td>\n",
       "      <td>NaN</td>\n",
       "      <td>0,0</td>\n",
       "    </tr>\n",
       "    <tr>\n",
       "      <th>4</th>\n",
       "      <td>Total</td>\n",
       "      <td>NaN</td>\n",
       "      <td>NaN</td>\n",
       "      <td>6</td>\n",
       "      <td>252110</td>\n",
       "      <td>NaN</td>\n",
       "      <td>2,4</td>\n",
       "    </tr>\n",
       "  </tbody>\n",
       "</table>\n",
       "</div>"
      ],
      "text/plain": [
       "      Unnamed: 0  Comuna  N° Unnamed: 1  Población  Tasa Unnamed: 2\n",
       "0          Arica     NaN NaN          6     247552   NaN        2,4\n",
       "1      Camarones     NaN NaN          -       1233   NaN        0,0\n",
       "2  General Lagos     NaN NaN          -        810   NaN        0,0\n",
       "3          Putre     NaN NaN          -       2515   NaN        0,0\n",
       "4          Total     NaN NaN          6     252110   NaN        2,4"
      ]
     },
     "execution_count": 68,
     "metadata": {
      "tags": []
     },
     "output_type": "execute_result"
    }
   ],
   "source": [
    "df_comunas_20200330['tabla_7'].head()"
   ]
  },
  {
   "cell_type": "markdown",
   "metadata": {
    "colab_type": "text",
    "id": "7IoRvxzJ1JuB"
   },
   "source": [
    "Misma tabla empieza con un *Unnamed: 0*"
   ]
  },
  {
   "cell_type": "code",
   "execution_count": 0,
   "metadata": {
    "colab": {
     "base_uri": "https://localhost:8080/",
     "height": 206
    },
    "colab_type": "code",
    "id": "qoijBP6m1JuB",
    "outputId": "c4295074-29b6-40da-fccb-8407ff02f02b"
   },
   "outputs": [
    {
     "data": {
      "text/html": [
       "<div>\n",
       "<style scoped>\n",
       "    .dataframe tbody tr th:only-of-type {\n",
       "        vertical-align: middle;\n",
       "    }\n",
       "\n",
       "    .dataframe tbody tr th {\n",
       "        vertical-align: top;\n",
       "    }\n",
       "\n",
       "    .dataframe thead th {\n",
       "        text-align: right;\n",
       "    }\n",
       "</style>\n",
       "<table border=\"1\" class=\"dataframe\">\n",
       "  <thead>\n",
       "    <tr style=\"text-align: right;\">\n",
       "      <th></th>\n",
       "      <th>Comuna</th>\n",
       "      <th>N°</th>\n",
       "      <th>Unnamed: 0</th>\n",
       "      <th>Población</th>\n",
       "      <th>Unnamed: 1</th>\n",
       "      <th>Tasa</th>\n",
       "      <th>Unnamed: 2</th>\n",
       "    </tr>\n",
       "  </thead>\n",
       "  <tbody>\n",
       "    <tr>\n",
       "      <th>0</th>\n",
       "      <td>Antártica</td>\n",
       "      <td>NaN</td>\n",
       "      <td>-</td>\n",
       "      <td>137</td>\n",
       "      <td>NaN</td>\n",
       "      <td>NaN</td>\n",
       "      <td>0,0</td>\n",
       "    </tr>\n",
       "    <tr>\n",
       "      <th>1</th>\n",
       "      <td>Cabo de Hornos</td>\n",
       "      <td>NaN</td>\n",
       "      <td>5</td>\n",
       "      <td>1983</td>\n",
       "      <td>NaN</td>\n",
       "      <td>NaN</td>\n",
       "      <td>252,1</td>\n",
       "    </tr>\n",
       "    <tr>\n",
       "      <th>2</th>\n",
       "      <td>Laguna Blanca</td>\n",
       "      <td>NaN</td>\n",
       "      <td>-</td>\n",
       "      <td>264</td>\n",
       "      <td>NaN</td>\n",
       "      <td>NaN</td>\n",
       "      <td>0,0</td>\n",
       "    </tr>\n",
       "    <tr>\n",
       "      <th>3</th>\n",
       "      <td>Natales</td>\n",
       "      <td>NaN</td>\n",
       "      <td>-</td>\n",
       "      <td>23782</td>\n",
       "      <td>NaN</td>\n",
       "      <td>NaN</td>\n",
       "      <td>4,2</td>\n",
       "    </tr>\n",
       "    <tr>\n",
       "      <th>4</th>\n",
       "      <td>Porvenir</td>\n",
       "      <td>NaN</td>\n",
       "      <td>-</td>\n",
       "      <td>7323</td>\n",
       "      <td>NaN</td>\n",
       "      <td>NaN</td>\n",
       "      <td>0,0</td>\n",
       "    </tr>\n",
       "  </tbody>\n",
       "</table>\n",
       "</div>"
      ],
      "text/plain": [
       "           Comuna  N° Unnamed: 0  Población  Unnamed: 1  Tasa Unnamed: 2\n",
       "0       Antártica NaN          -        137         NaN   NaN        0,0\n",
       "1  Cabo de Hornos NaN          5       1983         NaN   NaN      252,1\n",
       "2   Laguna Blanca NaN          -        264         NaN   NaN        0,0\n",
       "3         Natales NaN          -      23782         NaN   NaN        4,2\n",
       "4        Porvenir NaN          -       7323         NaN   NaN        0,0"
      ]
     },
     "execution_count": 69,
     "metadata": {
      "tags": []
     },
     "output_type": "execute_result"
    }
   ],
   "source": [
    "df_comunas_20200330['tabla_23'].head()"
   ]
  },
  {
   "cell_type": "markdown",
   "metadata": {
    "colab_type": "text",
    "id": "qLhY2PZ01JuI"
   },
   "source": [
    "Misma tabla **no** empieza con un *Unnamed: 0*"
   ]
  },
  {
   "cell_type": "markdown",
   "metadata": {
    "colab_type": "text",
    "id": "xJ3pEB521JuJ"
   },
   "source": [
    "# Separamos estas dos categorias:"
   ]
  },
  {
   "cell_type": "code",
   "execution_count": 0,
   "metadata": {
    "colab": {
     "base_uri": "https://localhost:8080/",
     "height": 86
    },
    "colab_type": "code",
    "id": "XU3_2rUq1JuK",
    "outputId": "1d4c217b-ea79-44f0-d525-20b79de23120",
    "scrolled": false
   },
   "outputs": [
    {
     "name": "stdout",
     "output_type": "stream",
     "text": [
      "tabla_6\n",
      "tabla_17\n",
      "tabla_18\n",
      "tabla_21\n"
     ]
    }
   ],
   "source": [
    "df_comunas_20200401 = {}\n",
    "unnamed_primeraCol_20200401 = {}\n",
    "\n",
    "for idx, df in enumerate(tablas_20200401):\n",
    "    if 'Comuna' in df.columns:\n",
    "        \n",
    "        key = 'tabla_' + str(idx + 1)\n",
    "        df_comunas_20200401[key] = df\n",
    "        \n",
    "        if 'Unnamed' in df.columns[0]: \n",
    "            print(key)\n",
    "            unnamed_primeraCol_20200401[key] = df"
   ]
  },
  {
   "cell_type": "code",
   "execution_count": 0,
   "metadata": {
    "colab": {
     "base_uri": "https://localhost:8080/",
     "height": 104
    },
    "colab_type": "code",
    "id": "6EOFqqWR1JuM",
    "outputId": "461f23a8-62b1-4c8f-d15e-967afdc78a0b"
   },
   "outputs": [
    {
     "name": "stdout",
     "output_type": "stream",
     "text": [
      "tabla_7\n",
      "tabla_13\n",
      "tabla_18\n",
      "tabla_19\n",
      "tabla_22\n"
     ]
    }
   ],
   "source": [
    "df_comunas_20200330 = {}\n",
    "unnamed_primeraCol_20200330 = {}\n",
    "\n",
    "for idx, df in enumerate(tablas_20200330):\n",
    "    if 'Comuna' in df.columns:\n",
    "        \n",
    "        key= 'tabla_' + str(idx + 1)\n",
    "        df_comunas_20200330[key] = df\n",
    "        \n",
    "        if 'Unnamed' in df.columns[0]:\n",
    "            print(key)            \n",
    "            unnamed_primeraCol_20200330[key] = df"
   ]
  },
  {
   "cell_type": "markdown",
   "metadata": {
    "colab_type": "text",
    "id": "mLXJmcP31JuR"
   },
   "source": [
    "# Resumen"
   ]
  },
  {
   "cell_type": "markdown",
   "metadata": {
    "colab_type": "text",
    "id": "PR2PPcNf1JuS"
   },
   "source": [
    "* El informe 20200330 tiene una tabla más al parecer (en realidad esto no es así y parecer que un cambio en el gráfico dejo la kgá).\n",
    "\n",
    "* La extracción de tablas parece tener los mismos errores en las mismas tablas."
   ]
  },
  {
   "cell_type": "code",
   "execution_count": 0,
   "metadata": {
    "colab": {},
    "colab_type": "code",
    "id": "4qzm3Qbe1JuS"
   },
   "outputs": [],
   "source": [
    "%%capture\n",
    "\"\"\"\n",
    "\n",
    "for tup_1, tup_2 in zip(df_comunas.items(), df_comunas_2.items()):\n",
    "    key_1, df_1 = tup_1\n",
    "    key_2, df_2 = tup_2\n",
    "    \n",
    "    if (key_1 or key_2) in unnamed_primeraCol:\n",
    "        if (df_1.columns == df_2.columns).all: \n",
    "            print(\"LAS COLUMNAS DE LAS TABLAS *diferentes* coinciden!\", key_1, key_2)\n",
    "            \n",
    "\"\"\""
   ]
  },
  {
   "cell_type": "markdown",
   "metadata": {
    "colab_type": "text",
    "id": "Jhl-4l7T1JuX"
   },
   "source": [
    "## Estandarizamos las tablas"
   ]
  },
  {
   "cell_type": "code",
   "execution_count": 0,
   "metadata": {
    "colab": {},
    "colab_type": "code",
    "id": "zzncxA4G1JuX"
   },
   "outputs": [],
   "source": [
    "for key in df_comunas_20200401.keys():\n",
    "    df = df_comunas_20200401[key]\n",
    "    \n",
    "    if key in unnamed_primeraCol_20200401.keys():\n",
    "        df['Comuna'] = df['Unnamed: 0']\n",
    "        df['N°'] = df['Unnamed: 1']\n",
    "        df['Tasa'] = df['Unnamed: 2']\n",
    "        \n",
    "        df_comunas_20200401[key] = df.drop(labels='Unnamed: 0', \n",
    "                                  axis=1).drop(labels='Unnamed: 1',\n",
    "                                               axis=1).drop(labels='Unnamed: 2', axis=1)\n",
    "        \n",
    "    else:\n",
    "        if key == 'tabla_22': continue  \n",
    "        \n",
    "        df_comunas_20200401[key] = df.drop(labels='Unnamed: 0', \n",
    "                          axis=1).drop(labels='Unnamed: 1', axis=1)"
   ]
  },
  {
   "cell_type": "code",
   "execution_count": 0,
   "metadata": {
    "colab": {},
    "colab_type": "code",
    "id": "nKKdjLDT1Jua"
   },
   "outputs": [],
   "source": [
    "for key in df_comunas_20200330.keys():\n",
    "    df = df_comunas_20200330[key]\n",
    "    \n",
    "    if key in unnamed_primeraCol_20200330.keys():\n",
    "        df['Comuna'] = df['Unnamed: 0']\n",
    "        df['N°'] = df['Unnamed: 1']\n",
    "        df['Tasa'] = df['Unnamed: 2']\n",
    "        \n",
    "        df_comunas_20200330[key] = df.drop(labels='Unnamed: 0', \n",
    "                                  axis=1).drop(labels='Unnamed: 1',\n",
    "                                               axis=1).drop(labels='Unnamed: 2', axis=1)\n",
    "    else:\n",
    "        if key == 'tabla_22': continue  \n",
    "        \n",
    "        df_comunas_20200330[key] = df.drop(labels='Unnamed: 0', \n",
    "                          axis=1).drop(labels='Unnamed: 1',axis=1)"
   ]
  },
  {
   "cell_type": "code",
   "execution_count": 0,
   "metadata": {
    "colab": {
     "base_uri": "https://localhost:8080/",
     "height": 312
    },
    "colab_type": "code",
    "id": "uJ1sTOfc1Jud",
    "outputId": "19f6c881-b691-42d8-ea8f-9d3f199c0232"
   },
   "outputs": [
    {
     "name": "stdout",
     "output_type": "stream",
     "text": [
      "tabla_6 Index(['Comuna', 'N°', 'Población', 'Tasa'], dtype='object')\n",
      "tabla_7 Index(['Comuna', 'N°', 'Población', 'Tasa'], dtype='object')\n",
      "tabla_8 Index(['Comuna', 'N°', 'Población', 'Tasa'], dtype='object')\n",
      "tabla_9 Index(['Comuna', 'N°', 'Población', 'Tasa'], dtype='object')\n",
      "tabla_10 Index(['Comuna', 'N°', 'Población', 'Tasa'], dtype='object')\n",
      "tabla_11 Index(['Comuna', 'N°', 'Población', 'Tasa'], dtype='object')\n",
      "tabla_14 Index(['Comuna', 'N°', 'Población', 'Tasa'], dtype='object')\n",
      "tabla_15 Index(['Comuna', 'N°', 'Población', 'Tasa'], dtype='object')\n",
      "tabla_16 Index(['Comuna', 'N°', 'Población', 'Tasa'], dtype='object')\n",
      "tabla_17 Index(['Comuna', 'N°', 'Población', 'Tasa'], dtype='object')\n",
      "tabla_18 Index(['Comuna', 'N°', 'Población', 'Tasa'], dtype='object')\n",
      "tabla_19 Index(['Comuna', 'N°', 'Población', 'Tasa'], dtype='object')\n",
      "tabla_20 Index(['Comuna', 'N°', 'Población', 'Tasa'], dtype='object')\n",
      "tabla_21 Index(['Comuna', 'N°', 'Población', 'Tasa'], dtype='object')\n",
      "tabla_22 Index(['Comuna', 'N°', 'Unnamed: 0', 'Población', 'Unnamed: 1', 'Tasa',\n",
      "       'Unnamed: 2'],\n",
      "      dtype='object')\n"
     ]
    }
   ],
   "source": [
    "for key, region in df_comunas_20200401.items():\n",
    "    print(key, region.columns)"
   ]
  },
  {
   "cell_type": "code",
   "execution_count": 0,
   "metadata": {
    "colab": {
     "base_uri": "https://localhost:8080/",
     "height": 295
    },
    "colab_type": "code",
    "id": "XcRKFnqQ1Jug",
    "outputId": "0a960d8b-7c64-492b-9857-49b7971cf122",
    "scrolled": true
   },
   "outputs": [
    {
     "name": "stdout",
     "output_type": "stream",
     "text": [
      "tabla_7 Index(['Comuna', 'N°', 'Población', 'Tasa'], dtype='object')\n",
      "tabla_8 Index(['Comuna', 'N°', 'Población', 'Tasa'], dtype='object')\n",
      "tabla_9 Index(['Comuna', 'N°', 'Población', 'Tasa'], dtype='object')\n",
      "tabla_10 Index(['Comuna', 'N°', 'Población', 'Tasa'], dtype='object')\n",
      "tabla_11 Index(['Comuna', 'N°', 'Población', 'Tasa'], dtype='object')\n",
      "tabla_12 Index(['Comuna', 'N°', 'Población', 'Tasa'], dtype='object')\n",
      "tabla_13 Index(['Comuna', 'N°', 'Población', 'Tasa'], dtype='object')\n",
      "tabla_15 Index(['Comuna', 'N°', 'Población', 'Tasa'], dtype='object')\n",
      "tabla_16 Index(['Comuna', 'N°', 'Población', 'Tasa'], dtype='object')\n",
      "tabla_17 Index(['Comuna', 'N°', 'Población', 'Tasa'], dtype='object')\n",
      "tabla_18 Index(['Comuna', 'N°', 'Población', 'Tasa'], dtype='object')\n",
      "tabla_19 Index(['Comuna', 'N°', 'Población', 'Tasa'], dtype='object')\n",
      "tabla_20 Index(['Comuna', 'N°', 'Población', 'Tasa'], dtype='object')\n",
      "tabla_21 Index(['Comuna', 'N°', 'Población', 'Tasa'], dtype='object')\n",
      "tabla_22 Index(['Comuna', 'N°', 'Población', 'Tasa'], dtype='object')\n",
      "tabla_23 Index(['Comuna', 'N°', 'Población', 'Tasa', 'Unnamed: 2'], dtype='object')\n"
     ]
    }
   ],
   "source": [
    "for key, region in df_comunas_20200330.items():\n",
    "    print(key, region.columns)"
   ]
  },
  {
   "cell_type": "markdown",
   "metadata": {
    "colab_type": "text",
    "id": "FZgsUqaC1Juk"
   },
   "source": [
    "## Ultima tabla tiene *Unnamed: 2*"
   ]
  },
  {
   "cell_type": "code",
   "execution_count": 0,
   "metadata": {
    "colab": {
     "base_uri": "https://localhost:8080/",
     "height": 394
    },
    "colab_type": "code",
    "id": "TkEOtdvU1Jum",
    "outputId": "703c1ac0-674c-44db-d308-254b7ebb21a2"
   },
   "outputs": [
    {
     "data": {
      "text/html": [
       "<div>\n",
       "<style scoped>\n",
       "    .dataframe tbody tr th:only-of-type {\n",
       "        vertical-align: middle;\n",
       "    }\n",
       "\n",
       "    .dataframe tbody tr th {\n",
       "        vertical-align: top;\n",
       "    }\n",
       "\n",
       "    .dataframe thead th {\n",
       "        text-align: right;\n",
       "    }\n",
       "</style>\n",
       "<table border=\"1\" class=\"dataframe\">\n",
       "  <thead>\n",
       "    <tr style=\"text-align: right;\">\n",
       "      <th></th>\n",
       "      <th>Comuna</th>\n",
       "      <th>N°</th>\n",
       "      <th>Población</th>\n",
       "      <th>Tasa</th>\n",
       "    </tr>\n",
       "  </thead>\n",
       "  <tbody>\n",
       "    <tr>\n",
       "      <th>0</th>\n",
       "      <td>Aysén</td>\n",
       "      <td>-</td>\n",
       "      <td>25002</td>\n",
       "      <td>4,0</td>\n",
       "    </tr>\n",
       "    <tr>\n",
       "      <th>1</th>\n",
       "      <td>Chile Chico</td>\n",
       "      <td>-</td>\n",
       "      <td>5121</td>\n",
       "      <td>0,0</td>\n",
       "    </tr>\n",
       "    <tr>\n",
       "      <th>2</th>\n",
       "      <td>Cisnes</td>\n",
       "      <td>-</td>\n",
       "      <td>5828</td>\n",
       "      <td>0,0</td>\n",
       "    </tr>\n",
       "    <tr>\n",
       "      <th>3</th>\n",
       "      <td>Cochrane</td>\n",
       "      <td>-</td>\n",
       "      <td>3685</td>\n",
       "      <td>0,0</td>\n",
       "    </tr>\n",
       "    <tr>\n",
       "      <th>4</th>\n",
       "      <td>Coyhaique</td>\n",
       "      <td>-</td>\n",
       "      <td>61210</td>\n",
       "      <td>3,3</td>\n",
       "    </tr>\n",
       "    <tr>\n",
       "      <th>5</th>\n",
       "      <td>Guaitecas</td>\n",
       "      <td>-</td>\n",
       "      <td>1599</td>\n",
       "      <td>0,0</td>\n",
       "    </tr>\n",
       "    <tr>\n",
       "      <th>6</th>\n",
       "      <td>Lago Verde</td>\n",
       "      <td>-</td>\n",
       "      <td>920</td>\n",
       "      <td>0,0</td>\n",
       "    </tr>\n",
       "    <tr>\n",
       "      <th>7</th>\n",
       "      <td>O'Higgins</td>\n",
       "      <td>-</td>\n",
       "      <td>661</td>\n",
       "      <td>0,0</td>\n",
       "    </tr>\n",
       "    <tr>\n",
       "      <th>8</th>\n",
       "      <td>Río Ibáñez</td>\n",
       "      <td>-</td>\n",
       "      <td>2699</td>\n",
       "      <td>0,0</td>\n",
       "    </tr>\n",
       "    <tr>\n",
       "      <th>9</th>\n",
       "      <td>Tortel</td>\n",
       "      <td>-</td>\n",
       "      <td>572</td>\n",
       "      <td>0,0</td>\n",
       "    </tr>\n",
       "    <tr>\n",
       "      <th>10</th>\n",
       "      <td>Total</td>\n",
       "      <td>3</td>\n",
       "      <td>107297</td>\n",
       "      <td>2,8</td>\n",
       "    </tr>\n",
       "  </tbody>\n",
       "</table>\n",
       "</div>"
      ],
      "text/plain": [
       "         Comuna N°  Población Tasa\n",
       "0         Aysén  -      25002  4,0\n",
       "1   Chile Chico  -       5121  0,0\n",
       "2        Cisnes  -       5828  0,0\n",
       "3      Cochrane  -       3685  0,0\n",
       "4     Coyhaique  -      61210  3,3\n",
       "5     Guaitecas  -       1599  0,0\n",
       "6    Lago Verde  -        920  0,0\n",
       "7     O'Higgins  -        661  0,0\n",
       "8    Río Ibáñez  -       2699  0,0\n",
       "9        Tortel  -        572  0,0\n",
       "10        Total  3     107297  2,8"
      ]
     },
     "execution_count": 77,
     "metadata": {
      "tags": []
     },
     "output_type": "execute_result"
    }
   ],
   "source": [
    "df_comunas_20200401['tabla_21']"
   ]
  },
  {
   "cell_type": "code",
   "execution_count": 0,
   "metadata": {
    "colab": {
     "base_uri": "https://localhost:8080/",
     "height": 426
    },
    "colab_type": "code",
    "id": "iplrVbZh1Juo",
    "outputId": "36b9e0f4-ec55-48c2-87d3-62ae5ce08b18"
   },
   "outputs": [
    {
     "data": {
      "text/html": [
       "<div>\n",
       "<style scoped>\n",
       "    .dataframe tbody tr th:only-of-type {\n",
       "        vertical-align: middle;\n",
       "    }\n",
       "\n",
       "    .dataframe tbody tr th {\n",
       "        vertical-align: top;\n",
       "    }\n",
       "\n",
       "    .dataframe thead th {\n",
       "        text-align: right;\n",
       "    }\n",
       "</style>\n",
       "<table border=\"1\" class=\"dataframe\">\n",
       "  <thead>\n",
       "    <tr style=\"text-align: right;\">\n",
       "      <th></th>\n",
       "      <th>Comuna</th>\n",
       "      <th>N°</th>\n",
       "      <th>Población</th>\n",
       "      <th>Tasa</th>\n",
       "      <th>Unnamed: 2</th>\n",
       "    </tr>\n",
       "  </thead>\n",
       "  <tbody>\n",
       "    <tr>\n",
       "      <th>0</th>\n",
       "      <td>Antártica</td>\n",
       "      <td>NaN</td>\n",
       "      <td>137</td>\n",
       "      <td>NaN</td>\n",
       "      <td>0,0</td>\n",
       "    </tr>\n",
       "    <tr>\n",
       "      <th>1</th>\n",
       "      <td>Cabo de Hornos</td>\n",
       "      <td>NaN</td>\n",
       "      <td>1983</td>\n",
       "      <td>NaN</td>\n",
       "      <td>252,1</td>\n",
       "    </tr>\n",
       "    <tr>\n",
       "      <th>2</th>\n",
       "      <td>Laguna Blanca</td>\n",
       "      <td>NaN</td>\n",
       "      <td>264</td>\n",
       "      <td>NaN</td>\n",
       "      <td>0,0</td>\n",
       "    </tr>\n",
       "    <tr>\n",
       "      <th>3</th>\n",
       "      <td>Natales</td>\n",
       "      <td>NaN</td>\n",
       "      <td>23782</td>\n",
       "      <td>NaN</td>\n",
       "      <td>4,2</td>\n",
       "    </tr>\n",
       "    <tr>\n",
       "      <th>4</th>\n",
       "      <td>Porvenir</td>\n",
       "      <td>NaN</td>\n",
       "      <td>7323</td>\n",
       "      <td>NaN</td>\n",
       "      <td>0,0</td>\n",
       "    </tr>\n",
       "    <tr>\n",
       "      <th>5</th>\n",
       "      <td>Primavera</td>\n",
       "      <td>NaN</td>\n",
       "      <td>694</td>\n",
       "      <td>NaN</td>\n",
       "      <td>0,0</td>\n",
       "    </tr>\n",
       "    <tr>\n",
       "      <th>6</th>\n",
       "      <td>Punta Arenas</td>\n",
       "      <td>NaN</td>\n",
       "      <td>141984</td>\n",
       "      <td>NaN</td>\n",
       "      <td>20,4</td>\n",
       "    </tr>\n",
       "    <tr>\n",
       "      <th>7</th>\n",
       "      <td>Río Verde</td>\n",
       "      <td>NaN</td>\n",
       "      <td>211</td>\n",
       "      <td>NaN</td>\n",
       "      <td>0,0</td>\n",
       "    </tr>\n",
       "    <tr>\n",
       "      <th>8</th>\n",
       "      <td>San Gregorio</td>\n",
       "      <td>NaN</td>\n",
       "      <td>681</td>\n",
       "      <td>NaN</td>\n",
       "      <td>0,0</td>\n",
       "    </tr>\n",
       "    <tr>\n",
       "      <th>9</th>\n",
       "      <td>Timaukel</td>\n",
       "      <td>NaN</td>\n",
       "      <td>282</td>\n",
       "      <td>NaN</td>\n",
       "      <td>0,0</td>\n",
       "    </tr>\n",
       "    <tr>\n",
       "      <th>10</th>\n",
       "      <td>Torres del Paine</td>\n",
       "      <td>NaN</td>\n",
       "      <td>1021</td>\n",
       "      <td>NaN</td>\n",
       "      <td>0,0</td>\n",
       "    </tr>\n",
       "    <tr>\n",
       "      <th>11</th>\n",
       "      <td>Total</td>\n",
       "      <td>NaN</td>\n",
       "      <td>178362</td>\n",
       "      <td>NaN</td>\n",
       "      <td>19,6</td>\n",
       "    </tr>\n",
       "  </tbody>\n",
       "</table>\n",
       "</div>"
      ],
      "text/plain": [
       "              Comuna  N°  Población  Tasa Unnamed: 2\n",
       "0          Antártica NaN        137   NaN        0,0\n",
       "1     Cabo de Hornos NaN       1983   NaN      252,1\n",
       "2      Laguna Blanca NaN        264   NaN        0,0\n",
       "3            Natales NaN      23782   NaN        4,2\n",
       "4           Porvenir NaN       7323   NaN        0,0\n",
       "5          Primavera NaN        694   NaN        0,0\n",
       "6       Punta Arenas NaN     141984   NaN       20,4\n",
       "7          Río Verde NaN        211   NaN        0,0\n",
       "8       San Gregorio NaN        681   NaN        0,0\n",
       "9           Timaukel NaN        282   NaN        0,0\n",
       "10  Torres del Paine NaN       1021   NaN        0,0\n",
       "11             Total NaN     178362   NaN       19,6"
      ]
     },
     "execution_count": 78,
     "metadata": {
      "tags": []
     },
     "output_type": "execute_result"
    }
   ],
   "source": [
    "df_comunas_20200330['tabla_23']"
   ]
  },
  {
   "cell_type": "code",
   "execution_count": 0,
   "metadata": {
    "colab": {},
    "colab_type": "code",
    "id": "j4JOMof71Jus"
   },
   "outputs": [],
   "source": []
  }
 ],
 "metadata": {
  "colab": {
   "collapsed_sections": [],
   "name": "COVID - Descarga y Preprocesamiento Informes EPI MINSAL.ipynb",
   "provenance": [],
   "toc_visible": true
  },
  "kernelspec": {
   "display_name": "Python 3",
   "language": "python",
   "name": "python3"
  },
  "language_info": {
   "codemirror_mode": {
    "name": "ipython",
    "version": 3
   },
   "file_extension": ".py",
   "mimetype": "text/x-python",
   "name": "python",
   "nbconvert_exporter": "python",
   "pygments_lexer": "ipython3",
   "version": "3.7.6"
  }
 },
 "nbformat": 4,
 "nbformat_minor": 1
}
