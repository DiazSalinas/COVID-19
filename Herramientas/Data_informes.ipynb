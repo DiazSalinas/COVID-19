{
 "cells": [
  {
   "cell_type": "markdown",
   "metadata": {
    "colab_type": "text",
    "id": "w6x6Rm4ya4cm"
   },
   "source": [
    "##Librerías varias que utilizaremos."
   ]
  },
  {
   "cell_type": "code",
   "execution_count": 1,
   "metadata": {
    "colab": {},
    "colab_type": "code",
    "id": "c8s2Fw3HMqPD"
   },
   "outputs": [],
   "source": [
    "import requests, six\n",
    "import lxml.html as lh\n",
    "from itertools import cycle, islice\n",
    "import pandas as pd"
   ]
  },
  {
   "cell_type": "code",
   "execution_count": 2,
   "metadata": {},
   "outputs": [],
   "source": [
    "directory = '../informes_minsal/PDF/Informes-Departamento-Epidimiologia/'"
   ]
  },
  {
   "cell_type": "markdown",
   "metadata": {
    "colab_type": "text",
    "id": "T8OAEPFS-5-3"
   },
   "source": [
    "##Creamos los dataset con los datos del misal"
   ]
  },
  {
   "cell_type": "code",
   "execution_count": 18,
   "metadata": {},
   "outputs": [
    {
     "name": "stdout",
     "output_type": "stream",
     "text": [
      "33\n"
     ]
    }
   ],
   "source": [
    "import PyPDF2\n",
    "date = '2020-03-30'\n",
    "name = directory + date + '-INFORME_EPI_COVID19.pdf'\n",
    "pdfFileObj = open(name, 'rb') \n",
    "\n",
    "pdfReader = PyPDF2.PdfFileReader(pdfFileObj) \n",
    "print(pdfReader.numPages) \n",
    "  \n",
    "# creating a page object \n",
    "pageObj = pdfReader.getPage(5) \n",
    "  \n",
    "# extracting text from page \n",
    "Text =pageObj.extractText()\n",
    "  # closing the pdf file object \n",
    "pdfFileObj.close() "
   ]
  },
  {
   "cell_type": "code",
   "execution_count": 19,
   "metadata": {},
   "outputs": [
    {
     "data": {
      "text/plain": [
       "'INFORME EPIDEMIOLÓGICO\\n. \\nCOVID\\n-\\n19. \\n30\\n-\\n03\\n-\\n2020\\n.\\n \\n6\\n \\n \\nFigu\\nr\\na \\n2\\n. Casos confirmados de COVID\\n-\\n19 s\\negún fecha de inicio de síntomas\\n \\ny \\nnotificaci\\nón\\n. \\nChile, \\nentre\\n \\ne\\nl\\n \\n22 de febrero al \\n29\\n \\nde marzo de 2020\\n.\\n \\n \\nIm\\ná\\ngen\\nes\\n \\n1\\na\\n \\ny 1b\\n. \\nNúmero de casos\\n \\ny tasa de casos\\n \\nconfirmados notificados COVID\\n-\\n19, entre\\n \\nel \\n2\\n2\\n \\nde febrero \\ny el\\n \\n30\\n \\nde marzo. Chile. \\n \\n \\n \\n'"
      ]
     },
     "execution_count": 19,
     "metadata": {},
     "output_type": "execute_result"
    }
   ],
   "source": [
    "Text"
   ]
  },
  {
   "cell_type": "code",
   "execution_count": 0,
   "metadata": {
    "colab": {},
    "colab_type": "code",
    "id": "_JW4OIiQNK0K"
   },
   "outputs": [],
   "source": [
    "url = 'https://www.minsal.cl/nuevo-coronavirus-2019-ncov/casos-confirmados-en-chile-covid-19/'"
   ]
  },
  {
   "cell_type": "code",
   "execution_count": 18,
   "metadata": {
    "colab": {
     "base_uri": "https://localhost:8080/",
     "height": 34
    },
    "colab_type": "code",
    "executionInfo": {
     "elapsed": 2899,
     "status": "ok",
     "timestamp": 1585498509751,
     "user": {
      "displayName": "Jorge Ahumada Margarit",
      "photoUrl": "https://lh3.googleusercontent.com/a-/AOh14Gg8BFRrtChh8QGhzYbzMip6KtN_GOdHo0GquDvH=s64",
      "userId": "05300502113834064756"
     },
     "user_tz": 180
    },
    "id": "GD55fUxhNPhX",
    "outputId": "284cd51b-271f-45b4-e703-5cef15c21485"
   },
   "outputs": [
    {
     "data": {
      "text/plain": [
       "[5, 5, 5, 5, 5, 5, 5, 5, 5, 5, 5, 5, 5, 5, 5, 5, 5, 5]"
      ]
     },
     "execution_count": 18,
     "metadata": {
      "tags": []
     },
     "output_type": "execute_result"
    }
   ],
   "source": [
    "#Para realizar una solicitud HTTP\n",
    "page = requests.get(url)\n",
    "\n",
    "#Almacenar los contenidos de la web.\n",
    "doc = lh.fromstring(page.content)\n",
    "\n",
    "#Los datos que esten entre <tr>...</tr>\n",
    "tr_elements = doc.xpath('//tr')\n",
    "\n",
    "#Aquí checamos si las filas tienen el mismo largo\n",
    "[len(T) for T in tr_elements[2:20]]"
   ]
  },
  {
   "cell_type": "code",
   "execution_count": 19,
   "metadata": {
    "colab": {
     "base_uri": "https://localhost:8080/",
     "height": 153
    },
    "colab_type": "code",
    "executionInfo": {
     "elapsed": 2889,
     "status": "ok",
     "timestamp": 1585498509752,
     "user": {
      "displayName": "Jorge Ahumada Margarit",
      "photoUrl": "https://lh3.googleusercontent.com/a-/AOh14Gg8BFRrtChh8QGhzYbzMip6KtN_GOdHo0GquDvH=s64",
      "userId": "05300502113834064756"
     },
     "user_tz": 180
    },
    "id": "a57Ms8cgNlhH",
    "outputId": "4af75bb6-aadd-487d-84e5-5499b280f294"
   },
   "outputs": [
    {
     "name": "stdout",
     "output_type": "stream",
     "text": [
      "1:\"Región\"\n",
      "2:\"Casos nuevos\"\n",
      "3:\"Casos totales\"\n",
      "4:\"% Casos totales**\"\n",
      "5:\"Fallecidos\"\n",
      "1:\"Casos recuperados a nivel nacional\"\n",
      "2:\"75\"\n",
      "[('Casos recuperados a nivel nacional', [75])]\n"
     ]
    }
   ],
   "source": [
    "#Creamos una lista vacía.\n",
    "col=[]\n",
    "i=0\n",
    "\n",
    "#Guardamos el encabezado y una lista vacia (primera tabla).\n",
    "for t in tr_elements[2]:\n",
    "    i+=1\n",
    "    name=t.text_content()\n",
    "    print('%d:\"%s\"'%(i,name))\n",
    "    col.append((name,[]))\n",
    "\n",
    "#print(col)\n",
    "casosR = []\n",
    "i=0\n",
    "#Guardamos el encabezado y una lista vacía (segunda tabla).\n",
    "for u in tr_elements[20]:\n",
    "    i+=1\n",
    "    name_2=u.text_content()\n",
    "    print('%d:\"%s\"'%(i,name_2))\n",
    "    if i > 1:\n",
    "      name_2 = int(name_2)\n",
    "      casosR[0][1].append(name_2)\n",
    "      break\n",
    "    casosR.append((name_2,[]))\n",
    "print(casosR)\n",
    "#El segundo for lo usamos para obtener los datos de la segunda tabla, ya que el largo de la fila de la segunda tabla es distinto."
   ]
  },
  {
   "cell_type": "code",
   "execution_count": 0,
   "metadata": {
    "colab": {},
    "colab_type": "code",
    "id": "ZRz2ANnROtZc"
   },
   "outputs": [],
   "source": [
    "for j in range(3,len(tr_elements)):\n",
    "\n",
    "    T=tr_elements[j]\n",
    "    \n",
    "    #Esto para que no guarde filas que tengas menos o más de 5 columnas.\n",
    "    if len(T)!=5:\n",
    "        break\n",
    "  \n",
    "    i=0\n",
    "    \n",
    "    #Recorremos cada elemento que tenga la fila.\n",
    "    for t in T.iterchildren():\n",
    "        data=t.text_content() \n",
    "        #Compruebe si la fila está vacía.\n",
    "        if i>0:\n",
    "        #Convierte cualquier valor numérico a enteros.\n",
    "            try:\n",
    "                data=int(data)\n",
    "            except:\n",
    "                pass\n",
    "        #Agrega el valor a la lista vacía en la columna i.\n",
    "        col[i][1].append(data)\n",
    "        i+=1"
   ]
  },
  {
   "cell_type": "code",
   "execution_count": 21,
   "metadata": {
    "colab": {
     "base_uri": "https://localhost:8080/",
     "height": 34
    },
    "colab_type": "code",
    "executionInfo": {
     "elapsed": 2872,
     "status": "ok",
     "timestamp": 1585498509754,
     "user": {
      "displayName": "Jorge Ahumada Margarit",
      "photoUrl": "https://lh3.googleusercontent.com/a-/AOh14Gg8BFRrtChh8QGhzYbzMip6KtN_GOdHo0GquDvH=s64",
      "userId": "05300502113834064756"
     },
     "user_tz": 180
    },
    "id": "mNA35DoQOzvl",
    "outputId": "30af86c2-be49-436b-83be-d791e048cb30"
   },
   "outputs": [
    {
     "data": {
      "text/plain": [
       "[17, 17, 17, 17, 17]"
      ]
     },
     "execution_count": 21,
     "metadata": {
      "tags": []
     },
     "output_type": "execute_result"
    }
   ],
   "source": [
    "[len(C) for (title,C) in col]"
   ]
  },
  {
   "cell_type": "markdown",
   "metadata": {
    "colab_type": "text",
    "id": "evPScLiCXCEZ"
   },
   "source": [
    "##Creamos el primer dataset con los valores de la página."
   ]
  },
  {
   "cell_type": "code",
   "execution_count": 22,
   "metadata": {
    "colab": {
     "base_uri": "https://localhost:8080/",
     "height": 204
    },
    "colab_type": "code",
    "executionInfo": {
     "elapsed": 2860,
     "status": "ok",
     "timestamp": 1585498509754,
     "user": {
      "displayName": "Jorge Ahumada Margarit",
      "photoUrl": "https://lh3.googleusercontent.com/a-/AOh14Gg8BFRrtChh8QGhzYbzMip6KtN_GOdHo0GquDvH=s64",
      "userId": "05300502113834064756"
     },
     "user_tz": 180
    },
    "id": "gpnza2QtO3Lq",
    "outputId": "44ec6460-8e21-438d-ff5b-4833669fb97d"
   },
   "outputs": [
    {
     "data": {
      "text/html": [
       "<div>\n",
       "<style scoped>\n",
       "    .dataframe tbody tr th:only-of-type {\n",
       "        vertical-align: middle;\n",
       "    }\n",
       "\n",
       "    .dataframe tbody tr th {\n",
       "        vertical-align: top;\n",
       "    }\n",
       "\n",
       "    .dataframe thead th {\n",
       "        text-align: right;\n",
       "    }\n",
       "</style>\n",
       "<table border=\"1\" class=\"dataframe\">\n",
       "  <thead>\n",
       "    <tr style=\"text-align: right;\">\n",
       "      <th></th>\n",
       "      <th>Región</th>\n",
       "      <th>Casos nuevos</th>\n",
       "      <th>Casos totales</th>\n",
       "      <th>% Casos totales**</th>\n",
       "      <th>Fallecidos</th>\n",
       "    </tr>\n",
       "  </thead>\n",
       "  <tbody>\n",
       "    <tr>\n",
       "      <th>0</th>\n",
       "      <td>Arica y Parinacota</td>\n",
       "      <td>1</td>\n",
       "      <td>4</td>\n",
       "      <td>0 %</td>\n",
       "      <td>0</td>\n",
       "    </tr>\n",
       "    <tr>\n",
       "      <th>1</th>\n",
       "      <td>Tarapacá</td>\n",
       "      <td>1</td>\n",
       "      <td>6</td>\n",
       "      <td>0 %</td>\n",
       "      <td>0</td>\n",
       "    </tr>\n",
       "    <tr>\n",
       "      <th>2</th>\n",
       "      <td>Antofagasta</td>\n",
       "      <td>2</td>\n",
       "      <td>27</td>\n",
       "      <td>1 %</td>\n",
       "      <td>0</td>\n",
       "    </tr>\n",
       "    <tr>\n",
       "      <th>3</th>\n",
       "      <td>Atacama</td>\n",
       "      <td>1</td>\n",
       "      <td>2</td>\n",
       "      <td>0 %</td>\n",
       "      <td>0</td>\n",
       "    </tr>\n",
       "    <tr>\n",
       "      <th>4</th>\n",
       "      <td>Coquimbo</td>\n",
       "      <td>3</td>\n",
       "      <td>18</td>\n",
       "      <td>1 %</td>\n",
       "      <td>0</td>\n",
       "    </tr>\n",
       "  </tbody>\n",
       "</table>\n",
       "</div>"
      ],
      "text/plain": [
       "               Región  Casos nuevos Casos totales % Casos totales**  Fallecidos\n",
       "0  Arica y Parinacota             1             4               0 %           0\n",
       "1            Tarapacá             1             6               0 %           0\n",
       "2         Antofagasta             2            27               1 %           0\n",
       "3             Atacama             1             2               0 %           0\n",
       "4            Coquimbo             3            18               1 %           0"
      ]
     },
     "execution_count": 22,
     "metadata": {
      "tags": []
     },
     "output_type": "execute_result"
    }
   ],
   "source": [
    "Dict={title:column for (title,column) in col}\n",
    "import pandas as pd\n",
    "df=pd.DataFrame(Dict)\n",
    "df.head()"
   ]
  },
  {
   "cell_type": "markdown",
   "metadata": {
    "colab_type": "text",
    "id": "yutdCbefXp1-"
   },
   "source": [
    "##Creamos el segundo dataset con los datos totales de cada columna\n",
    "\n",
    "Esto es para tener ordenada la tabla y para que luego sea más fácil la manipulación de los datos."
   ]
  },
  {
   "cell_type": "code",
   "execution_count": 0,
   "metadata": {
    "colab": {},
    "colab_type": "code",
    "id": "M7pJbi6-eBj6"
   },
   "outputs": [],
   "source": [
    "Dic_2 = {title:column for (title,column) in casosR}"
   ]
  },
  {
   "cell_type": "code",
   "execution_count": 24,
   "metadata": {
    "colab": {
     "base_uri": "https://localhost:8080/",
     "height": 80
    },
    "colab_type": "code",
    "executionInfo": {
     "elapsed": 2845,
     "status": "ok",
     "timestamp": 1585498509756,
     "user": {
      "displayName": "Jorge Ahumada Margarit",
      "photoUrl": "https://lh3.googleusercontent.com/a-/AOh14Gg8BFRrtChh8QGhzYbzMip6KtN_GOdHo0GquDvH=s64",
      "userId": "05300502113834064756"
     },
     "user_tz": 180
    },
    "id": "eYMNvrtWEDVa",
    "outputId": "6d1a7737-e870-4e3e-ddbe-ec6d306677c7"
   },
   "outputs": [
    {
     "data": {
      "text/html": [
       "<div>\n",
       "<style scoped>\n",
       "    .dataframe tbody tr th:only-of-type {\n",
       "        vertical-align: middle;\n",
       "    }\n",
       "\n",
       "    .dataframe tbody tr th {\n",
       "        vertical-align: top;\n",
       "    }\n",
       "\n",
       "    .dataframe thead th {\n",
       "        text-align: right;\n",
       "    }\n",
       "</style>\n",
       "<table border=\"1\" class=\"dataframe\">\n",
       "  <thead>\n",
       "    <tr style=\"text-align: right;\">\n",
       "      <th></th>\n",
       "      <th>Casos recuperados a nivel nacional</th>\n",
       "      <th>Casos_fallecidos</th>\n",
       "      <th>Casos_totales_dia</th>\n",
       "      <th>Casos_totales_nuevos</th>\n",
       "      <th>Fecha</th>\n",
       "    </tr>\n",
       "  </thead>\n",
       "  <tbody>\n",
       "    <tr>\n",
       "      <th>0</th>\n",
       "      <td>75</td>\n",
       "      <td>7</td>\n",
       "      <td>2139</td>\n",
       "      <td>230</td>\n",
       "      <td>2020-03-29</td>\n",
       "    </tr>\n",
       "  </tbody>\n",
       "</table>\n",
       "</div>"
      ],
      "text/plain": [
       "   Casos recuperados a nivel nacional  ...       Fecha\n",
       "0                                  75  ...  2020-03-29\n",
       "\n",
       "[1 rows x 5 columns]"
      ]
     },
     "execution_count": 24,
     "metadata": {
      "tags": []
     },
     "output_type": "execute_result"
    }
   ],
   "source": [
    "import datetime\n",
    "from datetime import date\n",
    "\n",
    "fw = pd.DataFrame(Dic_2)\n",
    "R=df.iloc[16:,4:5].values\n",
    "X=df.iloc[16:,1:2].values\n",
    "Y=float(df.iloc[16:,2:3].values)\n",
    "Y = int(Y*1000)\n",
    "dia = str(date.today())\n",
    "#print(R)\n",
    "#print(X)\n",
    "#print(Y)\n",
    "fw = fw.assign(Casos_fallecidos=R)\n",
    "fw = fw.assign(Casos_totales_dia=Y)\n",
    "fw = fw.assign(Casos_totales_nuevos=X)\n",
    "fw = fw.assign(Fecha=dia)\n",
    "fw.head()"
   ]
  },
  {
   "cell_type": "markdown",
   "metadata": {
    "colab_type": "text",
    "id": "zdH01YO0ZILt"
   },
   "source": [
    "##Por último creamos y actualizamos los archivos CSV"
   ]
  },
  {
   "cell_type": "code",
   "execution_count": 25,
   "metadata": {
    "colab": {
     "base_uri": "https://localhost:8080/",
     "height": 122
    },
    "colab_type": "code",
    "executionInfo": {
     "elapsed": 27767,
     "status": "ok",
     "timestamp": 1585498534687,
     "user": {
      "displayName": "Jorge Ahumada Margarit",
      "photoUrl": "https://lh3.googleusercontent.com/a-/AOh14Gg8BFRrtChh8QGhzYbzMip6KtN_GOdHo0GquDvH=s64",
      "userId": "05300502113834064756"
     },
     "user_tz": 180
    },
    "id": "tZfV0CXuS7kt",
    "outputId": "1abf1c2d-60a2-4a05-f08d-5b790f9bcb35"
   },
   "outputs": [
    {
     "name": "stdout",
     "output_type": "stream",
     "text": [
      "Go to this URL in a browser: https://accounts.google.com/o/oauth2/auth?client_id=947318989803-6bn6qk8qdgf4n4g3pfee6491hc0brc4i.apps.googleusercontent.com&redirect_uri=urn%3aietf%3awg%3aoauth%3a2.0%3aoob&response_type=code&scope=email%20https%3a%2f%2fwww.googleapis.com%2fauth%2fdocs.test%20https%3a%2f%2fwww.googleapis.com%2fauth%2fdrive%20https%3a%2f%2fwww.googleapis.com%2fauth%2fdrive.photos.readonly%20https%3a%2f%2fwww.googleapis.com%2fauth%2fpeopleapi.readonly\n",
      "\n",
      "Enter your authorization code:\n",
      "··········\n",
      "Mounted at /content/drive\n"
     ]
    }
   ],
   "source": [
    "import os\n",
    "import csv \n",
    "from google.colab import drive\n",
    "\n",
    "drive.mount('/content/drive')\n",
    "os.chdir('/content/drive/My Drive/COVID-19 Chile (Coronavirus)/Database (CSV)') #En donde vamos a guardar los archivos CSV. \n",
    "\n",
    "#print(date.today())\n",
    "df.drop(df.index[[16]],inplace=True)#Esto es para borrar los datos totales (ultima fila) de la primera tabla, porque recuerden que los vamos a guardar en la segunda.\n",
    "df.to_csv('Casos_COVID-19_Chile_'+dia+'.csv', header=True, index=False) #Creamos el primer archivo con la primera tabla.\n",
    "#fw.to_csv('Resumen_COVID-19_Chile_'+dia+'.csv', header=True, index=False) #Para crear todos los días un csv distinto con los datos de la segunda tabla.\n",
    "\n",
    "#Aqui nos evitamos crear un csv para cada dia y tan solo actualizamos todos los dias el que ya existe (segunda tabla).\n",
    "with open(r'Resumen_COVID-19_Chile_.csv', 'a') as f:\n",
    "    writer = csv.writer(f)\n",
    "    for row in fw.iloc[:,:].values:\n",
    "      writer.writerow(row)"
   ]
  }
 ],
 "metadata": {
  "colab": {
   "authorship_tag": "ABX9TyPjY3/oUGHHeEQhA2O7e6XA",
   "collapsed_sections": [],
   "name": "Get_data.ipynb",
   "provenance": [
    {
     "file_id": "1eUOg7s8RSzG3L-dDlI_IDHuTC2NIP4B0",
     "timestamp": 1585352506702
    }
   ]
  },
  "kernelspec": {
   "display_name": "Python 3",
   "language": "python",
   "name": "python3"
  },
  "language_info": {
   "codemirror_mode": {
    "name": "ipython",
    "version": 3
   },
   "file_extension": ".py",
   "mimetype": "text/x-python",
   "name": "python",
   "nbconvert_exporter": "python",
   "pygments_lexer": "ipython3",
   "version": "3.7.5"
  }
 },
 "nbformat": 4,
 "nbformat_minor": 1
}
